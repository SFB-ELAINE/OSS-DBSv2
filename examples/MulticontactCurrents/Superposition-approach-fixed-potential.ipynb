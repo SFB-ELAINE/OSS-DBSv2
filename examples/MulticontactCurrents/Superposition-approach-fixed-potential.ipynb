{
 "cells": [
  {
   "cell_type": "markdown",
   "id": "bc6bc986",
   "metadata": {},
   "source": [
    "# Superposition approach\n",
    "\n",
    "Compute the admittance matrix and solve for an arbitrary current.\n",
    "This method leads to a singular matrix if no ground is defined."
   ]
  },
  {
   "cell_type": "code",
   "execution_count": null,
   "id": "8e76252e",
   "metadata": {},
   "outputs": [],
   "source": [
    "import netgen.occ as occ\n",
    "from netgen.webgui import Draw as DrawGeo\n",
    "import ngsolve\n",
    "from ngsolve.webgui import Draw\n",
    "import numpy as np"
   ]
  },
  {
   "cell_type": "code",
   "execution_count": null,
   "id": "6391d1c8",
   "metadata": {},
   "outputs": [],
   "source": [
    "unit_square = occ.unit_square_shape"
   ]
  },
  {
   "cell_type": "code",
   "execution_count": null,
   "id": "90bb3b03",
   "metadata": {},
   "outputs": [],
   "source": [
    "e1 = occ.Circle((0.2, 0.2), r=0.1)\n",
    "e2 = occ.Circle((0.5, 0.5), r=0.1)\n",
    "e3 = occ.Circle((0.8, 0.8), r=0.1)"
   ]
  },
  {
   "cell_type": "code",
   "execution_count": null,
   "id": "cf8bb9dc",
   "metadata": {},
   "outputs": [],
   "source": [
    "electrodes = [e1.Face(), e2.Face(), e3.Face()]\n",
    "for idx, electrode in enumerate(electrodes):\n",
    "    for edge in electrode.edges:\n",
    "        edge.name = \"Electrode_{}\".format(idx)\n",
    "    unit_square = unit_square - electrode"
   ]
  },
  {
   "cell_type": "code",
   "execution_count": null,
   "id": "b12972c6",
   "metadata": {},
   "outputs": [],
   "source": [
    "DrawGeo(unit_square)"
   ]
  },
  {
   "cell_type": "code",
   "execution_count": null,
   "id": "75deb3bf",
   "metadata": {},
   "outputs": [],
   "source": [
    "mesh = ngsolve.Mesh(occ.OCCGeometry(unit_square, dim=2).GenerateMesh())\n",
    "mesh.Curve(2)"
   ]
  },
  {
   "cell_type": "code",
   "execution_count": null,
   "id": "82174857",
   "metadata": {},
   "outputs": [],
   "source": [
    "Draw(mesh)\n",
    "print(mesh.GetBoundaries())"
   ]
  },
  {
   "cell_type": "code",
   "execution_count": null,
   "id": "a35c8560",
   "metadata": {
    "scrolled": true
   },
   "outputs": [],
   "source": [
    "# 3 - number of electrodes\n",
    "admittance_matrix = np.zeros((3, 3))\n",
    "\n",
    "I_1 = -0.5  # A\n",
    "I_2 = -0.5\n",
    "I_3 = 1.0\n",
    "I = [I_1, I_2, I_3]\n",
    "boundaries = [\"Electrode_{}\".format(idx) for idx in range(3)]\n",
    "indices = [(0, 0), (1, 1), (2,2 ), (0, 1), (0, 2), (1, 2)]\n",
    "\n",
    "def bvp(dirichlet_values, Vi, Vj, Yii, Yjj):\n",
    "    fes = ngsolve.H1(mesh, order=2, dirichlet=str(\"|\").join(boundaries)) \n",
    "    u = fes.TrialFunction()\n",
    "    v = fes.TestFunction()\n",
    "\n",
    "    a = ngsolve.BilinearForm(fes)\n",
    "    a += ngsolve.grad(u) * ngsolve.grad(v) * ngsolve.dx\n",
    "\n",
    "    f = ngsolve.LinearForm(fes)\n",
    "    f += 0.0 * v * ngsolve.dx\n",
    "\n",
    "    a.Assemble()\n",
    "    f.Assemble()\n",
    "\n",
    "    gfu = ngsolve.GridFunction(fes)\n",
    "    bnd_cf = mesh.BoundaryCF(dirichlet_values)\n",
    "    gfu.Set(bnd_cf, ngsolve.BND)\n",
    "    Draw(gfu)\n",
    "    r = f.vec.CreateVector()\n",
    "    r.data = f.vec - a.mat * gfu.vec\n",
    "    gfu.vec.data += a.mat.Inverse(freedofs=fes.FreeDofs()) * r\n",
    "    \n",
    "    power = 0.5 * ngsolve.Integrate(ngsolve.grad(gfu) * ngsolve.grad(gfu) * ngsolve.dx, mesh)\n",
    "    if np.isclose(Vj, 0):\n",
    "        return 2.0 / Vi * power\n",
    "    else:\n",
    "        return 1.0 / (Vi * Vj)  * power - 0.5 * (Vi / Vj * Yii + Vj / Vi * Yjj)\n",
    "\n",
    "for index_pair in indices:\n",
    "    idx_1 = index_pair[0]\n",
    "    idx_2 = index_pair[1]\n",
    "    dirichlet_values = {}\n",
    "    for boundary in boundaries:\n",
    "        dirichlet_values[boundary] = 0.0\n",
    "    if idx_1 == idx_2:\n",
    "        dirichlet_values[\"Electrode_{}\".format(idx_1)] = 1.0\n",
    "        print(idx_1, idx_2, dirichlet_values)\n",
    "        admittance_matrix[idx_1][idx_1] = bvp(dirichlet_values, 1.0, 0.0,\n",
    "                                              admittance_matrix[idx_1][idx_1],\n",
    "                                              admittance_matrix[idx_2][idx_2])\n",
    "    else:\n",
    "        dirichlet_values[\"Electrode_{}\".format(idx_1)] = 1.0\n",
    "        dirichlet_values[\"Electrode_{}\".format(idx_2)] = 2.0\n",
    "        print(idx_1, idx_2, dirichlet_values)\n",
    "\n",
    "        admittance_matrix[idx_1][idx_2] = bvp(dirichlet_values, 1.0, 2.0,\n",
    "                                              admittance_matrix[idx_1][idx_1],\n",
    "                                              admittance_matrix[idx_2][idx_2])\n",
    "        admittance_matrix[idx_2][idx_1] = admittance_matrix[idx_1][idx_2]"
   ]
  },
  {
   "cell_type": "code",
   "execution_count": null,
   "id": "042b6e7f",
   "metadata": {},
   "outputs": [],
   "source": [
    "admittance_matrix"
   ]
  },
  {
   "cell_type": "markdown",
   "id": "4dcca97f",
   "metadata": {},
   "source": [
    "# Floating potentials\n",
    "\n",
    "## Adjust admittance matrix for fixed potential\n",
    "\n",
    "Fix V_2 (third electrode) to zero."
   ]
  },
  {
   "cell_type": "code",
   "execution_count": null,
   "id": "21f1a95a",
   "metadata": {},
   "outputs": [],
   "source": [
    "V_2 = 0\n",
    "idx_remove = 2\n",
    "\n",
    "I_1 = -0.5  # A\n",
    "I_2 = -0.5\n",
    "I_3 = 1.0\n",
    "I = np.array([I_1, I_2, I_3])\n",
    "\n",
    "I_reduced = np.zeros(I.shape[0] - 1)\n",
    "for i in range(idx_remove - 1):\n",
    "    I_reduced[i] = I[i]\n",
    "I_reduced[idx_remove - 1] = I[idx_remove - 1] - I[idx_remove]\n",
    "admittance_matrix_reduced = admittance_matrix[:idx_remove,:idx_remove]\n",
    "admittance_matrix_reduced[idx_remove - 1] += -admittance_matrix[idx_remove, :idx_remove]\n",
    "V = np.linalg.solve(admittance_matrix_reduced, I_reduced)\n",
    "print(V)"
   ]
  },
  {
   "cell_type": "markdown",
   "id": "722366aa",
   "metadata": {},
   "source": [
    "# Check output"
   ]
  },
  {
   "cell_type": "code",
   "execution_count": null,
   "id": "5ae194a2",
   "metadata": {},
   "outputs": [],
   "source": [
    "for idx, boundary in enumerate(boundaries):\n",
    "    if idx == 2:\n",
    "        dirichlet_values[boundary] = V_2\n",
    "    else:\n",
    "        dirichlet_values[boundary] = V[idx]\n",
    "\n",
    "fes = ngsolve.H1(mesh, order=2, dirichlet=str(\"|\").join(boundaries)) \n",
    "u = fes.TrialFunction()\n",
    "v = fes.TestFunction()\n",
    "\n",
    "a = ngsolve.BilinearForm(fes)\n",
    "a += ngsolve.grad(u) * ngsolve.grad(v) * ngsolve.dx\n",
    "\n",
    "f = ngsolve.LinearForm(fes)\n",
    "f += 0.0 * v * ngsolve.dx\n",
    "\n",
    "a.Assemble()\n",
    "f.Assemble()\n",
    "\n",
    "gfu = ngsolve.GridFunction(fes)\n",
    "bnd_cf = mesh.BoundaryCF(dirichlet_values)\n",
    "gfu.Set(bnd_cf, ngsolve.BND)\n",
    "Draw(gfu)\n",
    "r = f.vec.CreateVector()\n",
    "r.data = f.vec - a.mat * gfu.vec\n",
    "gfu.vec.data += a.mat.Inverse(freedofs=fes.FreeDofs()) * r\n",
    "Draw(gfu)"
   ]
  },
  {
   "cell_type": "markdown",
   "id": "0360fe5a",
   "metadata": {},
   "source": [
    "# Field plot"
   ]
  },
  {
   "cell_type": "code",
   "execution_count": null,
   "id": "cfd0c9d4",
   "metadata": {},
   "outputs": [],
   "source": [
    "Draw(-ngsolve.grad(gfu), mesh)"
   ]
  },
  {
   "cell_type": "markdown",
   "id": "8c2d64b6",
   "metadata": {},
   "source": [
    "# Result from floating code\n",
    "\n",
    "Shows that the solution is equal (within a certain numerical accuracy)"
   ]
  },
  {
   "cell_type": "code",
   "execution_count": null,
   "id": "f4f9ee07",
   "metadata": {},
   "outputs": [],
   "source": [
    "V_float = np.array([-0.727856, -0.515505])\n",
    "print(\"Diff: \", V_float - V)"
   ]
  },
  {
   "cell_type": "code",
   "execution_count": null,
   "id": "9c9178c0",
   "metadata": {},
   "outputs": [],
   "source": []
  }
 ],
 "metadata": {
  "kernelspec": {
   "display_name": "Python 3 (ipykernel)",
   "language": "python",
   "name": "python3"
  },
  "language_info": {
   "codemirror_mode": {
    "name": "ipython",
    "version": 3
   },
   "file_extension": ".py",
   "mimetype": "text/x-python",
   "name": "python",
   "nbconvert_exporter": "python",
   "pygments_lexer": "ipython3",
   "version": "3.10.12"
  }
 },
 "nbformat": 4,
 "nbformat_minor": 5
}
