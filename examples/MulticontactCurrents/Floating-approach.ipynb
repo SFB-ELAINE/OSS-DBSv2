{
 "cells": [
  {
   "cell_type": "markdown",
   "id": "d16d7222",
   "metadata": {},
   "source": [
    "# Floating potential approach\n",
    "\n",
    "The currents are imposed and the floating potential is determined.\n",
    "An efficient block preconditioner needs to be found to solve this kind of system\n",
    "with an iterative solver."
   ]
  },
  {
   "cell_type": "code",
   "execution_count": null,
   "id": "834371fe",
   "metadata": {},
   "outputs": [],
   "source": [
    "import netgen.occ as occ\n",
    "from netgen.webgui import Draw as DrawGeo\n",
    "import ngsolve\n",
    "from ngsolve.webgui import Draw"
   ]
  },
  {
   "cell_type": "code",
   "execution_count": null,
   "id": "a3ab1e70",
   "metadata": {},
   "outputs": [],
   "source": [
    "unit_square = occ.unit_square_shape"
   ]
  },
  {
   "cell_type": "code",
   "execution_count": null,
   "id": "367f9fc0",
   "metadata": {},
   "outputs": [],
   "source": [
    "e1 = occ.Circle((0.2, 0.2), r=0.1)\n",
    "e2 = occ.Circle((0.5, 0.5), r=0.1)\n",
    "e3 = occ.Circle((0.8, 0.8), r=0.1)"
   ]
  },
  {
   "cell_type": "code",
   "execution_count": null,
   "id": "79cd57bc",
   "metadata": {},
   "outputs": [],
   "source": [
    "electrodes = [e1.Face(), e2.Face(), e3.Face()]\n",
    "for idx, electrode in enumerate(electrodes):\n",
    "    for edge in electrode.edges:\n",
    "        edge.name = \"Electrode_{}\".format(idx)\n",
    "    unit_square = unit_square - electrode"
   ]
  },
  {
   "cell_type": "code",
   "execution_count": null,
   "id": "0d4bee2a",
   "metadata": {},
   "outputs": [],
   "source": [
    "DrawGeo(unit_square)"
   ]
  },
  {
   "cell_type": "code",
   "execution_count": null,
   "id": "4e85ade7",
   "metadata": {},
   "outputs": [],
   "source": [
    "mesh = ngsolve.Mesh(occ.OCCGeometry(unit_square, dim=2).GenerateMesh())\n",
    "mesh.Curve(2)"
   ]
  },
  {
   "cell_type": "code",
   "execution_count": null,
   "id": "d7323ba9",
   "metadata": {},
   "outputs": [],
   "source": [
    "Draw(mesh)\n",
    "print(mesh.GetBoundaries())"
   ]
  },
  {
   "cell_type": "code",
   "execution_count": null,
   "id": "e10a60f8",
   "metadata": {},
   "outputs": [],
   "source": [
    "V = ngsolve.H1(mesh, order=2)\n",
    "lm = ngsolve.SurfaceL2(mesh, order=1, dirichlet=\"bottom|left|right|top\")\n",
    "V_fixed = []\n",
    "for _ in range(3):\n",
    "    V_fixed.append(ngsolve.NumberSpace(mesh, order=0))\n",
    "fes = ngsolve.FESpace([V, lm, *V_fixed])\n",
    "\n",
    "print(\"DOFs:\")\n",
    "print(V.ndof)\n",
    "print(lm.ndof)\n",
    "for V_fix in V_fixed:\n",
    "    print(V_fix.ndof)\n",
    "\n",
    "I_1 = -0.5  # A\n",
    "I_2 = -0.5\n",
    "I_3 = 1.0\n",
    "I = [I_1, I_2, I_3]\n",
    "\n",
    "trial = fes.TrialFunction()\n",
    "test = fes.TestFunction()\n",
    "u, lam = trial[:2]\n",
    "v, mu = test[:2]\n",
    "\n",
    "a = ngsolve.BilinearForm(fes)\n",
    "a += ngsolve.grad(u) * ngsolve.grad(v) * ngsolve.dx\n",
    "\n",
    "boundaries = [\"Electrode_{}\".format(idx) for idx in range(3)]\n",
    "for ufix, vfix, boundary in zip(trial[2:], test[2:], boundaries):\n",
    "    a += (u * mu + v * lam) * ngsolve.ds(boundary)\n",
    "    a += -(ufix * mu + vfix * lam) * ngsolve.ds(boundary)\n",
    "\n",
    "f = ngsolve.LinearForm(fes)\n",
    "f += 0.0 * v * ngsolve.dx\n",
    "for I_x, vfix, boundary in zip(I, test[2:], boundaries):\n",
    "    length = ngsolve.Integrate(ngsolve.CoefficientFunction(1.0) * ngsolve.ds(boundary), mesh)\n",
    "    print(boundary)\n",
    "    print(length)\n",
    "    print(I_x)\n",
    "    f += I_x / length * vfix * ngsolve.ds(boundary)\n",
    "\n",
    "a.Assemble()\n",
    "f.Assemble()\n",
    "\n",
    "gfu = ngsolve.GridFunction(fes)\n",
    "\n",
    "r = f.vec.CreateVector()\n",
    "r.data = f.vec - a.mat * gfu.vec\n",
    "gfu.vec.data += a.mat.Inverse(freedofs=fes.FreeDofs()) * r\n",
    "Draw(gfu.components[0])\n"
   ]
  },
  {
   "cell_type": "markdown",
   "id": "2f9e677c",
   "metadata": {},
   "source": [
    "# Check output\n",
    "\n",
    "Try to understand orientation of normal vector!"
   ]
  },
  {
   "cell_type": "code",
   "execution_count": null,
   "id": "d05302f2",
   "metadata": {},
   "outputs": [],
   "source": [
    "normal_current = gfu.components[1]\n",
    "normal_component = ngsolve.specialcf.normal(2)\n",
    "current_density = ngsolve.BoundaryFromVolumeCF(-ngsolve.grad(gfu.components[0])) * normal_component\n",
    "print(ngsolve.Integrate(normal_current * ngsolve.ds(\"Electrode_0\"), mesh),\n",
    "      ngsolve.Integrate(current_density * ngsolve.ds(\"Electrode_0\"), mesh))\n",
    "print(ngsolve.Integrate(normal_current * ngsolve.ds(\"Electrode_1\"), mesh),\n",
    "      ngsolve.Integrate(current_density * ngsolve.ds(\"Electrode_1\"), mesh))\n",
    "print(ngsolve.Integrate(normal_current * ngsolve.ds(\"Electrode_2\"), mesh),\n",
    "      ngsolve.Integrate(current_density * ngsolve.ds(\"Electrode_2\"), mesh))"
   ]
  },
  {
   "cell_type": "markdown",
   "id": "7c1f57e3",
   "metadata": {},
   "source": [
    "# Floating potentials"
   ]
  },
  {
   "cell_type": "code",
   "execution_count": null,
   "id": "9a9adb2d",
   "metadata": {},
   "outputs": [],
   "source": [
    "print(gfu.components[2].vec)\n",
    "print(gfu.components[3].vec)\n",
    "print(gfu.components[4].vec)"
   ]
  },
  {
   "cell_type": "markdown",
   "id": "68b6036d",
   "metadata": {},
   "source": [
    "# Field plot"
   ]
  },
  {
   "cell_type": "code",
   "execution_count": null,
   "id": "ce191088",
   "metadata": {},
   "outputs": [],
   "source": [
    "Draw(-ngsolve.grad(gfu.components[0]), mesh)"
   ]
  },
  {
   "cell_type": "code",
   "execution_count": null,
   "id": "55f0b6d0",
   "metadata": {},
   "outputs": [],
   "source": []
  }
 ],
 "metadata": {
  "kernelspec": {
   "display_name": "Python 3 (ipykernel)",
   "language": "python",
   "name": "python3"
  },
  "language_info": {
   "codemirror_mode": {
    "name": "ipython",
    "version": 3
   },
   "file_extension": ".py",
   "mimetype": "text/x-python",
   "name": "python",
   "nbconvert_exporter": "python",
   "pygments_lexer": "ipython3",
   "version": "3.10.12"
  }
 },
 "nbformat": 4,
 "nbformat_minor": 5
}
