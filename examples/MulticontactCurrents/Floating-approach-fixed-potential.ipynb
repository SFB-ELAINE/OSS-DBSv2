{
 "cells": [
  {
   "cell_type": "markdown",
   "id": "0",
   "metadata": {},
   "source": [
    "# Floating potential approach\n",
    "\n",
    "The currents are imposed and the floating potential is determined.\n",
    "In addition, one electrode is set to ground.\n",
    "\n",
    "An efficient block preconditioner needs to be found to solve this kind of system\n",
    "with an iterative solver."
   ]
  },
  {
   "cell_type": "code",
   "execution_count": null,
   "id": "1",
   "metadata": {},
   "outputs": [],
   "source": [
    "import netgen.occ as occ\n",
    "import ngsolve\n",
    "from netgen.webgui import Draw as DrawGeo\n",
    "from ngsolve.webgui import Draw"
   ]
  },
  {
   "cell_type": "code",
   "execution_count": null,
   "id": "2",
   "metadata": {},
   "outputs": [],
   "source": [
    "unit_square = occ.unit_square_shape"
   ]
  },
  {
   "cell_type": "code",
   "execution_count": null,
   "id": "3",
   "metadata": {},
   "outputs": [],
   "source": [
    "e1 = occ.Circle((0.2, 0.2), r=0.1)\n",
    "e2 = occ.Circle((0.5, 0.5), r=0.1)\n",
    "e3 = occ.Circle((0.8, 0.8), r=0.1)"
   ]
  },
  {
   "cell_type": "code",
   "execution_count": null,
   "id": "4",
   "metadata": {},
   "outputs": [],
   "source": [
    "electrodes = [e1.Face(), e2.Face(), e3.Face()]\n",
    "for idx, electrode in enumerate(electrodes):\n",
    "    for edge in electrode.edges:\n",
    "        edge.name = f\"Electrode_{idx}\"\n",
    "    unit_square = unit_square - electrode"
   ]
  },
  {
   "cell_type": "code",
   "execution_count": null,
   "id": "5",
   "metadata": {},
   "outputs": [],
   "source": [
    "DrawGeo(unit_square)"
   ]
  },
  {
   "cell_type": "code",
   "execution_count": null,
   "id": "6",
   "metadata": {},
   "outputs": [],
   "source": [
    "mesh = ngsolve.Mesh(occ.OCCGeometry(unit_square, dim=2).GenerateMesh())\n",
    "mesh.Curve(2)"
   ]
  },
  {
   "cell_type": "code",
   "execution_count": null,
   "id": "7",
   "metadata": {},
   "outputs": [],
   "source": [
    "Draw(mesh)\n",
    "print(mesh.GetBoundaries())"
   ]
  },
  {
   "cell_type": "code",
   "execution_count": null,
   "id": "8",
   "metadata": {},
   "outputs": [],
   "source": [
    "V = ngsolve.H1(mesh, order=2, dirichlet=\"Electrode_2\")\n",
    "lm = ngsolve.SurfaceL2(mesh, order=1, dirichlet=\"bottom|left|right|top|Electrode_2\")\n",
    "V_fixed = []\n",
    "for _ in range(2):\n",
    "    V_fixed.append(ngsolve.NumberSpace(mesh, order=0))\n",
    "fes = ngsolve.FESpace([V, lm, *V_fixed])\n",
    "\n",
    "print(\"DOFs:\")\n",
    "print(V.ndof)\n",
    "print(lm.ndof)\n",
    "for V_fix in V_fixed:\n",
    "    print(V_fix.ndof)\n",
    "\n",
    "I_1 = -0.5  # A\n",
    "I_2 = -0.5\n",
    "I_3 = 1.0\n",
    "I_all = [I_1, I_2, I_3]\n",
    "\n",
    "trial = fes.TrialFunction()\n",
    "test = fes.TestFunction()\n",
    "u, lam = trial[:2]\n",
    "v, mu = test[:2]\n",
    "\n",
    "a = ngsolve.BilinearForm(fes)\n",
    "a += ngsolve.grad(u) * ngsolve.grad(v) * ngsolve.dx\n",
    "\n",
    "boundaries = [f\"Electrode_{idx}\" for idx in range(2)]\n",
    "for ufix, vfix, boundary in zip(trial[2:], test[2:], boundaries, strict=False):\n",
    "    a += (u * mu + v * lam) * ngsolve.ds(boundary)\n",
    "    a += -(ufix * mu + vfix * lam) * ngsolve.ds(boundary)\n",
    "\n",
    "f = ngsolve.LinearForm(fes)\n",
    "f += 0.0 * v * ngsolve.dx\n",
    "for I_x, vfix, boundary in zip(I_all, test[2:], boundaries, strict=False):\n",
    "    length = ngsolve.Integrate(\n",
    "        ngsolve.CoefficientFunction(1.0) * ngsolve.ds(boundary), mesh\n",
    "    )\n",
    "    f += I_x / length * vfix * ngsolve.ds(boundary)\n",
    "length = ngsolve.Integrate(\n",
    "    ngsolve.CoefficientFunction(1.0) * ngsolve.ds(\"Electrode_2\"), mesh\n",
    ")\n",
    "f += I_3 / length * v * ngsolve.ds(\"Electrode_2\")\n",
    "\n",
    "a.Assemble()\n",
    "f.Assemble()\n",
    "\n",
    "gfu = ngsolve.GridFunction(fes)\n",
    "\n",
    "r = f.vec.CreateVector()\n",
    "r.data = f.vec - a.mat * gfu.vec\n",
    "gfu.vec.data += a.mat.Inverse(freedofs=fes.FreeDofs()) * r\n",
    "Draw(gfu.components[0])"
   ]
  },
  {
   "cell_type": "markdown",
   "id": "9",
   "metadata": {},
   "source": [
    "# Check output\n",
    "\n",
    "Try to understand orientation of normal vector!"
   ]
  },
  {
   "cell_type": "code",
   "execution_count": null,
   "id": "10",
   "metadata": {},
   "outputs": [],
   "source": [
    "normal_current = gfu.components[1]\n",
    "normal_component = ngsolve.specialcf.normal(2)\n",
    "current_density = (\n",
    "    ngsolve.BoundaryFromVolumeCF(-ngsolve.grad(gfu.components[0])) * normal_component\n",
    ")\n",
    "print(\n",
    "    ngsolve.Integrate(normal_current * ngsolve.ds(\"Electrode_0\"), mesh),\n",
    "    ngsolve.Integrate(current_density * ngsolve.ds(\"Electrode_0\"), mesh),\n",
    ")\n",
    "print(\n",
    "    ngsolve.Integrate(normal_current * ngsolve.ds(\"Electrode_1\"), mesh),\n",
    "    ngsolve.Integrate(current_density * ngsolve.ds(\"Electrode_1\"), mesh),\n",
    ")\n",
    "print(\n",
    "    ngsolve.Integrate(normal_current * ngsolve.ds(\"Electrode_2\"), mesh),\n",
    "    ngsolve.Integrate(current_density * ngsolve.ds(\"Electrode_2\"), mesh),\n",
    ")"
   ]
  },
  {
   "cell_type": "markdown",
   "id": "11",
   "metadata": {},
   "source": [
    "# Floating potentials"
   ]
  },
  {
   "cell_type": "code",
   "execution_count": null,
   "id": "12",
   "metadata": {},
   "outputs": [],
   "source": [
    "print(gfu.components[2].vec)\n",
    "print(gfu.components[3].vec)"
   ]
  },
  {
   "cell_type": "markdown",
   "id": "13",
   "metadata": {},
   "source": [
    "# Field plot"
   ]
  },
  {
   "cell_type": "code",
   "execution_count": null,
   "id": "14",
   "metadata": {},
   "outputs": [],
   "source": [
    "Draw(-ngsolve.grad(gfu.components[0]), mesh)"
   ]
  },
  {
   "cell_type": "code",
   "execution_count": null,
   "id": "15",
   "metadata": {},
   "outputs": [],
   "source": []
  }
 ],
 "metadata": {
  "kernelspec": {
   "display_name": "Python 3 (ipykernel)",
   "language": "python",
   "name": "python3"
  },
  "language_info": {
   "codemirror_mode": {
    "name": "ipython",
    "version": 3
   },
   "file_extension": ".py",
   "mimetype": "text/x-python",
   "name": "python",
   "nbconvert_exporter": "python",
   "pygments_lexer": "ipython3",
   "version": "3.10.16"
  }
 },
 "nbformat": 4,
 "nbformat_minor": 5
}
