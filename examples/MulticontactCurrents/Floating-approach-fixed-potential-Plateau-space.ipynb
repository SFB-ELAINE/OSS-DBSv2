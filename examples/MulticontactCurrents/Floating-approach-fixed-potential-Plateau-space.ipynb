{
 "cells": [
  {
   "cell_type": "markdown",
   "id": "b8384d0a",
   "metadata": {},
   "source": [
    "# Floating potential approach\n",
    "\n",
    "The currents are imposed and the floating potential is determined.\n",
    "In addition, one electrode is set to ground.\n",
    "\n",
    "An efficient block preconditioner needs to be found to solve this kind of system\n",
    "with an iterative solver."
   ]
  },
  {
   "cell_type": "code",
   "execution_count": null,
   "id": "fd22ccd3",
   "metadata": {},
   "outputs": [],
   "source": [
    "import netgen.occ as occ\n",
    "from netgen.webgui import Draw as DrawGeo\n",
    "import ngsolve\n",
    "from ngsolve.webgui import Draw"
   ]
  },
  {
   "cell_type": "code",
   "execution_count": null,
   "id": "5367151a",
   "metadata": {},
   "outputs": [],
   "source": [
    "unit_square = occ.unit_square_shape"
   ]
  },
  {
   "cell_type": "code",
   "execution_count": null,
   "id": "af18e01f",
   "metadata": {},
   "outputs": [],
   "source": [
    "e1 = occ.Circle((0.2, 0.2), r=0.1)\n",
    "e2 = occ.Circle((0.5, 0.5), r=0.1)\n",
    "e3 = occ.Circle((0.8, 0.8), r=0.1)"
   ]
  },
  {
   "cell_type": "code",
   "execution_count": null,
   "id": "c827d1b7",
   "metadata": {},
   "outputs": [],
   "source": [
    "electrodes = [e1.Face(), e2.Face(), e3.Face()]\n",
    "for idx, electrode in enumerate(electrodes):\n",
    "    for edge in electrode.edges:\n",
    "        edge.name = \"Electrode_{}\".format(idx)\n",
    "    unit_square = unit_square - electrode"
   ]
  },
  {
   "cell_type": "code",
   "execution_count": null,
   "id": "b10cbb3c",
   "metadata": {},
   "outputs": [],
   "source": [
    "DrawGeo(unit_square)"
   ]
  },
  {
   "cell_type": "code",
   "execution_count": null,
   "id": "5bf8d6cd",
   "metadata": {},
   "outputs": [],
   "source": [
    "mesh = ngsolve.Mesh(occ.OCCGeometry(unit_square, dim=2).GenerateMesh())\n",
    "mesh.Curve(2)"
   ]
  },
  {
   "cell_type": "code",
   "execution_count": null,
   "id": "d55fab08",
   "metadata": {},
   "outputs": [],
   "source": [
    "Draw(mesh)\n",
    "print(mesh.GetBoundaries())"
   ]
  },
  {
   "cell_type": "code",
   "execution_count": null,
   "id": "f9614266",
   "metadata": {},
   "outputs": [],
   "source": [
    "V = ngsolve.H1(mesh, order=2, dirichlet=\"Electrode_2\")\n",
    "\n",
    "boundaries = [\"Electrode_{}\".format(idx) for idx in range(2)]\n",
    "plateaus = []\n",
    "for boundary in boundaries:\n",
    "    plateaus.append(mesh.Boundaries(boundary))\n",
    "\n",
    "fes = ngsolve.PlateauFESpace(V, plateaus)\n",
    "\n",
    "boundaries.append(\"Electrode_2\")\n",
    "\n",
    "I_1 = -0.5  # A\n",
    "I_2 = -0.5\n",
    "I_3 = 1.0\n",
    "I = [I_1, I_2, I_3]\n",
    "\n",
    "u = fes.TrialFunction()\n",
    "v = fes.TestFunction()\n",
    "\n",
    "a = ngsolve.BilinearForm(fes)\n",
    "a += ngsolve.grad(u) * ngsolve.grad(v) * ngsolve.dx\n",
    "\n",
    "f = ngsolve.LinearForm(fes)\n",
    "f += 0.0 * v * ngsolve.dx\n",
    "for I_x, boundary in zip(I, boundaries):\n",
    "    length = ngsolve.Integrate(ngsolve.CoefficientFunction(1.0) * ngsolve.ds(boundary), mesh)\n",
    "    f += I_x / length * v * ngsolve.ds(boundary)\n",
    "\n",
    "a.Assemble()\n",
    "f.Assemble()\n",
    "\n",
    "gfu = ngsolve.GridFunction(fes)\n",
    "\n",
    "r = f.vec.CreateVector()\n",
    "r.data = f.vec - a.mat * gfu.vec\n",
    "gfu.vec.data += a.mat.Inverse(freedofs=fes.FreeDofs()) * r\n",
    "Draw(gfu)"
   ]
  },
  {
   "cell_type": "markdown",
   "id": "17a7f9db",
   "metadata": {},
   "source": [
    "# Check output\n",
    "\n",
    "Try to understand orientation of normal vector!"
   ]
  },
  {
   "cell_type": "code",
   "execution_count": null,
   "id": "293caf4b",
   "metadata": {},
   "outputs": [],
   "source": [
    "normal_component = ngsolve.specialcf.normal(2)\n",
    "current_density = ngsolve.BoundaryFromVolumeCF(-ngsolve.grad(gfu)) * normal_component\n",
    "print(ngsolve.Integrate(current_density * ngsolve.ds(\"Electrode_0\"), mesh))\n",
    "print(ngsolve.Integrate(current_density * ngsolve.ds(\"Electrode_1\"), mesh))\n",
    "print(ngsolve.Integrate(current_density * ngsolve.ds(\"Electrode_2\"), mesh))"
   ]
  },
  {
   "cell_type": "markdown",
   "id": "1f3f8010",
   "metadata": {},
   "source": [
    "# Floating potentials"
   ]
  },
  {
   "cell_type": "code",
   "execution_count": null,
   "id": "f5833b1f",
   "metadata": {},
   "outputs": [],
   "source": [
    "print(ngsolve.Integrate(gfu * ngsolve.ds(\"Electrode_0\"), mesh) / ngsolve.Integrate(ngsolve.CoefficientFunction(1.0) * ngsolve.ds(\"Electrode_0\"), mesh))\n",
    "print(ngsolve.Integrate(gfu * ngsolve.ds(\"Electrode_1\"), mesh) / ngsolve.Integrate(ngsolve.CoefficientFunction(1.0) * ngsolve.ds(\"Electrode_1\"), mesh))\n",
    "print(ngsolve.Integrate(gfu * ngsolve.ds(\"Electrode_2\"), mesh) / ngsolve.Integrate(ngsolve.CoefficientFunction(1.0) * ngsolve.ds(\"Electrode_2\"), mesh))"
   ]
  },
  {
   "cell_type": "markdown",
   "id": "8c4a5a90",
   "metadata": {},
   "source": [
    "# Field plot"
   ]
  },
  {
   "cell_type": "code",
   "execution_count": null,
   "id": "87e1b8f8",
   "metadata": {},
   "outputs": [],
   "source": [
    "Draw(-ngsolve.grad(gfu), mesh)"
   ]
  },
  {
   "cell_type": "code",
   "execution_count": null,
   "id": "fabf97b9",
   "metadata": {},
   "outputs": [],
   "source": []
  }
 ],
 "metadata": {
  "kernelspec": {
   "display_name": "Python 3 (ipykernel)",
   "language": "python",
   "name": "python3"
  },
  "language_info": {
   "codemirror_mode": {
    "name": "ipython",
    "version": 3
   },
   "file_extension": ".py",
   "mimetype": "text/x-python",
   "name": "python",
   "nbconvert_exporter": "python",
   "pygments_lexer": "ipython3",
   "version": "3.10.12"
  }
 },
 "nbformat": 4,
 "nbformat_minor": 5
}
