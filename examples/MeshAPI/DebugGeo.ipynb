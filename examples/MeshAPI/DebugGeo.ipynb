{
 "cells": [
  {
   "cell_type": "markdown",
   "id": "0",
   "metadata": {},
   "source": [
    "Run an OSS-DBS input file\n",
    "that fails with a geometry\n",
    "to debug.\n"
   ]
  },
  {
   "cell_type": "code",
   "execution_count": null,
   "id": "1",
   "metadata": {},
   "outputs": [],
   "source": [
    "import ossdbs\n",
    "import netgen.occ\n",
    "from ngsolve import Draw, Redraw\n",
    "import json\n",
    "import sys\n",
    "import logging\n",
    "import numpy as np\n",
    "\n",
    "from netgen.webgui import Draw"
   ]
  },
  {
   "cell_type": "code",
   "execution_count": null,
   "id": "2",
   "metadata": {},
   "outputs": [],
   "source": []
  },
  {
   "cell_type": "code",
   "execution_count": null,
   "id": "3",
   "metadata": {},
   "outputs": [],
   "source": [
    "try:\n",
    "    import webgui_jupyter_widgets\n",
    "    from packaging.version import parse\n",
    "    assert parse(webgui_jupyter_widgets.__version__) >= parse(\"0.2.18\")\n",
    "    print('Everything good!')\n",
    "except:\n",
    "    print(\"\\x1b[31mYou need to update webgui_jupyter_widgets by running: \\x1b[0m\\npython3 -m pip install --upgrade webgui_jupyter_widgets\")"
   ]
  },
  {
   "cell_type": "code",
   "execution_count": null,
   "id": "4",
   "metadata": {},
   "outputs": [],
   "source": [
    "input_file = \"oss-dbs_parameters_bee.json\""
   ]
  },
  {
   "cell_type": "code",
   "execution_count": null,
   "id": "5",
   "metadata": {},
   "outputs": [],
   "source": [
    "ossdbs.set_logger(logging.DEBUG)\n",
    "with open(input_file) as fp:\n",
    "    settings = json.load(fp)"
   ]
  },
  {
   "cell_type": "code",
   "execution_count": null,
   "id": "6",
   "metadata": {},
   "outputs": [],
   "source": [
    "brain = ossdbs.generate_brain_model(settings)\n",
    "Draw(brain.geometry)"
   ]
  },
  {
   "cell_type": "code",
   "execution_count": null,
   "id": "7",
   "metadata": {},
   "outputs": [],
   "source": [
    "electrodes = ossdbs.generate_electrodes(settings)\n",
    "for idx, electrode in enumerate(electrodes):\n",
    "    Draw(electrode.geometry)\n",
    "    if not np.isclose(electrode.encapsulation_thickness, 0):\n",
    "        encapsulation = electrode.encapsulation_geometry(electrode.encapsulation_thickness)\n",
    "        Draw(encapsulation)\n",
    "        encapsulation = encapsulation * brain.geometry\n",
    "        Draw(encapsulation)\n",
    "        brain_geo = netgen.occ.Glue([brain.geometry, encapsulation])\n",
    "    else:\n",
    "        brain_geo = brain.geometry\n",
    "    Draw(brain_geo)\n",
    "    brain_f = brain_geo - electrode.geometry\n",
    "    Draw(brain_f)"
   ]
  },
  {
   "cell_type": "code",
   "execution_count": null,
   "id": "8",
   "metadata": {},
   "outputs": [],
   "source": [
    "brain_rotated = ossdbs.generate_brain_model(settings, rotate_initial_geo=True)\n",
    "Draw(brain_rotated.geometry)"
   ]
  },
  {
   "cell_type": "code",
   "execution_count": null,
   "id": "9",
   "metadata": {},
   "outputs": [],
   "source": [
    "print(brain.geometry.center)\n",
    "print(brain_rotated.geometry.center)\n",
    "print(brain.geometry.bounding_box)\n",
    "print(brain_rotated.geometry.bounding_box)\n",
    "print(brain.geometry.mass)\n",
    "print(brain_rotated.geometry.mass)"
   ]
  },
  {
   "cell_type": "code",
   "execution_count": null,
   "id": "10",
   "metadata": {},
   "outputs": [],
   "source": [
    "model_geometry = ossdbs.ModelGeometry(brain, electrodes)"
   ]
  },
  {
   "cell_type": "code",
   "execution_count": null,
   "id": "11",
   "metadata": {},
   "outputs": [],
   "source": [
    "Draw(netgen.occ.Glue([brain.geometry, electrode.geometry]))"
   ]
  },
  {
   "cell_type": "code",
   "execution_count": null,
   "id": "12",
   "metadata": {},
   "outputs": [],
   "source": [
    "Draw(model_geometry.geometry.shape)"
   ]
  },
  {
   "cell_type": "code",
   "execution_count": null,
   "id": "13",
   "metadata": {},
   "outputs": [],
   "source": []
  }
 ],
 "metadata": {
  "kernelspec": {
   "display_name": "Python 3 (ipykernel)",
   "language": "python",
   "name": "python3"
  },
  "language_info": {
   "codemirror_mode": {
    "name": "ipython",
    "version": 3
   },
   "file_extension": ".py",
   "mimetype": "text/x-python",
   "name": "python",
   "nbconvert_exporter": "python",
   "pygments_lexer": "ipython3",
   "version": "3.10.12"
  }
 },
 "nbformat": 4,
 "nbformat_minor": 5
}
