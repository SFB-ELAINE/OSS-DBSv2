{
 "cells": [
  {
   "cell_type": "markdown",
   "id": "976c6397-dba9-4596-ba32-a2cc89cab835",
   "metadata": {},
   "source": [
    "# OSS-DBS v2.0 Tutorial\n",
    "At first import all needed modules. Besides OSS-DBS we  import the Draw function from Netgen/NGSolve webgui to visualze the results within the jupyter-notebook. The Taskmanager is used to paralize the computational expensive steps."
   ]
  },
  {
   "cell_type": "code",
   "execution_count": null,
   "id": "76892387-57b8-4030-bf88-a90a2b119537",
   "metadata": {},
   "outputs": [],
   "source": [
    "from ngsolve.webgui import Draw as DrawNG\n",
    "from ngsolve import TaskManager\n",
    "from netgen.webgui import Draw\n",
    "import logging\n",
    "import ossdbs\n",
    "\n",
    "ossdbs.set_logger(logging.INFO)"
   ]
  },
  {
   "cell_type": "markdown",
   "id": "d51d7164",
   "metadata": {},
   "source": [
    "## Input Settings\n",
    "Define settings in dictionary format. Also an JSON file can be loaded."
   ]
  },
  {
   "cell_type": "code",
   "execution_count": null,
   "id": "5cef34b4",
   "metadata": {},
   "outputs": [],
   "source": [
    "settings = {\n",
    "    \"BrainRegion\": {\n",
    "        \"Center\": {\"x[mm]\": 17.0, \"y[mm]\": 8.0, \"z[mm]\": 6.0 },\n",
    "        \"Dimension\": {\"x[mm]\": 50.0, \"y[mm]\": 50.0, \"z[mm]\": 50.0 },\n",
    "        \"Shape\": \"Ellipsoid\"\n",
    "    },\n",
    "    \"Electrodes\":\n",
    "    [\n",
    "        {\n",
    "        \"Name\": \"BostonScientificVerciseCustom\",\n",
    "        \"CustomParameters\": {\n",
    "            \"tip_length\": 1.3,\n",
    "            \"contact_length\": 1.5,\n",
    "            \"contact_spacing\": 0.5,\n",
    "            \"lead_diameter\": 1.3,\n",
    "            \"total_length\": 50.0\n",
    "      },\n",
    "      \"Rotation[Degrees]\": 0.0,\n",
    "      \"Direction\": { \"x[mm]\": 0.0, \"y[mm]\": 0.0, \"z[mm]\": 1.0 },\n",
    "      \"TipPosition\": { \"x[mm]\": 17.0, \"y[mm]\": 8.0, \"z[mm]\": 6.0 },\n",
    "\n",
    "      \"Contacts\": [\n",
    "        {\n",
    "          \"Contact_ID\": 1,\n",
    "          \"Active\": True,\n",
    "          \"Current[A]\": 0.0,\n",
    "          \"Voltage[V]\": 1.0,\n",
    "          \"Floating\": False,\n",
    "          \"SurfaceImpedance[Ohmm]\": { \"real\": 0.0, \"imag\": 0.0 },\n",
    "          \"MaxMeshSizeEdge\": 0.01\n",
    "        },\n",
    "        {\n",
    "          \"Contact_ID\": 2,\n",
    "          \"Active\": True,\n",
    "          \"Current[A]\": 0.0,\n",
    "          \"Voltage[V]\": 0.0,\n",
    "          \"Floating\": False,\n",
    "          \"SurfaceImpedance[Ohmm]\": { \"real\": 0.0, \"imag\": 0.0 },\n",
    "          \"MaxMeshSizeEdge\": 0.01\n",
    "        }\n",
    "      ],\n",
    "    \"EncapsulationLayer\": {\n",
    "        \"Thickness[mm]\": 0.0,\n",
    "        \"Material\": \"Blood\",\n",
    "        \"DielectricModel\": \"ColeCole4\",\n",
    "        \"MaxMeshSize\": 0.5\n",
    "     }\n",
    "    }\n",
    "  ],\n",
    "  \"MaterialDistribution\": {\n",
    "    \"MRIPath\": \"../input_files/icbm_avg_152_segmented.nii.gz\",\n",
    "    \"MRIMapping\": {\n",
    "      \"Unknown\": 0,\n",
    "      \"CSF\": 1,\n",
    "      \"White matter\": 2,\n",
    "      \"Gray matter\": 3,\n",
    "      \"Blood\": 4      \n",
    "    },\n",
    "    \"DiffusionTensorActive\": False,\n",
    "    \"DTIPath\": \"\"\n",
    "  },\n",
    "\n",
    "  \"DielectricModel\": {\n",
    "    \"Type\": \"ColeCole4\",\n",
    "    \"CustomParameters\": None\n",
    "  },\n",
    "\n",
    "  \"Mesh\": {\n",
    "    \"LoadMesh\": False,\n",
    "    \"MeshElementOrder\": 2,\n",
    "    \"MeshingHypothesis\": {\n",
    "      \"Type\": \"Default\",\n",
    "      \"MaxMeshSize\": 0.1\n",
    "    },\n",
    "    \"MeshSize\":{\n",
    "      \"Edges\": {},\n",
    "      \"Faces\":{\"E1C1\": 0.1},\n",
    "      \"Volumes\":{\"Brain\": 0.5}\n",
    "    },\n",
    "    \"SaveMesh\": False\n",
    "  },\n",
    "\n",
    "  \"MeshRefinement\": {\n",
    "    \"MeshSizeRatioContacts\": 3.0\n",
    "  },\n",
    "\n",
    "  \"FEMOrder\": 2,\n",
    "  \"EQSMode\": False, \n",
    "\n",
    "  \"StimulationSignal\": {\n",
    "    \"CurrentControlled\": False,\n",
    "    \"Type\": \"Multisine\",\n",
    "    \"ListOfFrequencies\": [130.0]\n",
    "  },\n",
    "    \n",
    "    \"Solver\": \n",
    "    {\n",
    "        \"Type\": \"CG\", \n",
    "        \"Preconditioner\": \"bddc\",\n",
    "        \"PreconditionerKwargs\": {},\n",
    "        \"PrintRates\": False,\n",
    "        \"MaximumSteps\": 10000,\n",
    "        \"Precision\": 1e-12\n",
    "    },\n",
    "    \"PointModel\": {\n",
    "        \"Pathway\": {\n",
    "            \"Active\": False, \n",
    "            \"FileName\": \"\"\n",
    "        },\n",
    "        \"Lattice\": {\n",
    "            \"Active\": False,\n",
    "            \"Center\": {\"x[mm]\": 22.95, \"y[mm]\": 11.47, \"z[mm]\": 8.1},\n",
    "            \"Shape\": {\"x\": 10, \"y\": 10, \"z\": 10},\n",
    "            \"Direction\": {\"x[mm]\": 0, \"y[mm]\": 0, \"z[mm]\": 1},\n",
    "            \"PointDistance[mm]\": 0.1,\n",
    "        },\n",
    "        \"VoxelLattice\": {\n",
    "            \"Active\": False,\n",
    "            \"Shape\": {\"x\": 10, \"y\": 10, \"z\": 10},\n",
    "            },\n",
    "    },\n",
    "\n",
    "  \"OutputPath\": \"Results/\",\n",
    "  \"ComputeImpedance\": True,\n",
    "  \"TemplateSpace\": False,\n",
    "  \"ActivationThresholdVTA\": 0.2,\n",
    "  \"ExportVTK\": True,\n",
    "  \"ExportElectrode\": True\n",
    "}\n"
   ]
  },
  {
   "cell_type": "markdown",
   "id": "df790f80",
   "metadata": {},
   "source": [
    "## Load MRI and DTI Data\n",
    "MRI and DTI were load from the path given in the settings dictionary. You always need to provide a MRI image, but DTI is optional."
   ]
  },
  {
   "cell_type": "code",
   "execution_count": null,
   "id": "b14bb7d0",
   "metadata": {},
   "outputs": [],
   "source": [
    "mri_image, dti_image = ossdbs.load_images(settings)"
   ]
  },
  {
   "cell_type": "markdown",
   "id": "2442d852-a1b2-4293-b5fa-adeed39716ff",
   "metadata": {},
   "source": [
    "## Create Stimulation Electrodes\n",
    "The specified electrodes were create and drawed. Geometrical parameters of the electrode can be changed directly in the input settings by appending \"Custom\" to the end of the electrodes' name and providing a dictionary with custum parameters."
   ]
  },
  {
   "cell_type": "code",
   "execution_count": null,
   "id": "05df5ee0",
   "metadata": {},
   "outputs": [],
   "source": [
    "electrodes = ossdbs.generate_electrodes(settings)\n",
    "Draw(electrodes[0].geometry)"
   ]
  },
  {
   "cell_type": "markdown",
   "id": "a5d99e95-296d-48f4-bb11-18491ef6cad3",
   "metadata": {},
   "source": [
    "## Construct Geometry of the Brain\n",
    "Since the region of interesst is relativly small compared to the brain size, the shape can be approximated by a ellipsoide, sphere, or a box. Also providing a custom shape in `.brep` format is possible."
   ]
  },
  {
   "cell_type": "code",
   "execution_count": null,
   "id": "82f847b8",
   "metadata": {},
   "outputs": [],
   "source": [
    "region_parameters = settings[\"BrainRegion\"]\n",
    "brain_region = ossdbs.create_bounding_box(settings[\"BrainRegion\"])\n",
    "shape = settings[\"BrainRegion\"][\"Shape\"]\n",
    "\n",
    "brain = ossdbs.BrainGeometry(shape, brain_region)"
   ]
  },
  {
   "cell_type": "code",
   "execution_count": null,
   "id": "ef0fcc11",
   "metadata": {},
   "outputs": [],
   "source": [
    "model_geometry = ossdbs.ModelGeometry(brain, electrodes)\n",
    "Draw(model_geometry.geometry.shape)"
   ]
  },
  {
   "cell_type": "markdown",
   "id": "79b65771",
   "metadata": {},
   "source": [
    "## Prepare the Volume Conductor Model\n",
    "Before running the simulation, the material properties and corresponding conductivity values are determined based on the given inputs. Also the settings for the solver can be updated."
   ]
  },
  {
   "cell_type": "code",
   "execution_count": null,
   "id": "3c60cde8",
   "metadata": {},
   "outputs": [],
   "source": [
    "ossdbs.set_contact_and_encapsulation_layer_properties(settings, model_geometry)\n",
    "\n",
    "dielectric_model = ossdbs.prepare_dielectric_properties(settings)\n",
    "\n",
    "materials = settings[\"MaterialDistribution\"][\"MRIMapping\"]\n",
    "conductivity = ossdbs.ConductivityCF(mri_image,\n",
    "                                  brain_region,\n",
    "                                  dielectric_model,\n",
    "                                  materials,\n",
    "                                  model_geometry.encapsulation_layers,\n",
    "                                  complex_data=settings[\"EQSMode\"]\n",
    "                                  )\n",
    "\n",
    "solver = ossdbs.prepare_solver(settings)"
   ]
  },
  {
   "cell_type": "markdown",
   "id": "a9037e61-d2e2-4529-8edd-3353a84e8d51",
   "metadata": {},
   "source": [
    "## Run Volume Conductor Model\n",
    "To run the Volume Conductor Model, the built-in TaskManager is use to parallize the computational heavy parts. During this step, the results will be stored in the specified folder."
   ]
  },
  {
   "cell_type": "code",
   "execution_count": null,
   "id": "2c6b2d3d",
   "metadata": {},
   "outputs": [],
   "source": [
    "with TaskManager():\n",
    "    volume_conductor = ossdbs.prepare_volume_conductor_model(settings, model_geometry, conductivity, solver)\n",
    "    ossdbs.run_volume_conductor_model(settings, volume_conductor)"
   ]
  },
  {
   "cell_type": "code",
   "execution_count": null,
   "id": "d14ccdaa",
   "metadata": {},
   "outputs": [],
   "source": [
    "DrawNG(volume_conductor.potential)"
   ]
  }
 ],
 "metadata": {
  "kernelspec": {
   "display_name": "Python 3 (ipykernel)",
   "language": "python",
   "name": "python3"
  },
  "language_info": {
   "codemirror_mode": {
    "name": "ipython",
    "version": 3
   },
   "file_extension": ".py",
   "mimetype": "text/x-python",
   "name": "python",
   "nbconvert_exporter": "python",
   "pygments_lexer": "ipython3",
   "version": "3.10.12"
  }
 },
 "nbformat": 4,
 "nbformat_minor": 5
}
