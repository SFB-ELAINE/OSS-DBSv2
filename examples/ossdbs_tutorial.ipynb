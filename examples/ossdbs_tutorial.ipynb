{
 "cells": [
  {
   "cell_type": "code",
   "execution_count": null,
   "id": "1e5fc3af",
   "metadata": {},
   "outputs": [],
   "source": [
    "import ossdbs\n",
    "from netgen.webgui import Draw\n",
    "from ngsolve import TaskManager\n",
    "from ngsolve.webgui import Draw as DrawNG"
   ]
  },
  {
   "cell_type": "markdown",
   "id": "d51d7164",
   "metadata": {},
   "source": [
    "# Settings"
   ]
  },
  {
   "cell_type": "code",
   "execution_count": null,
   "id": "5cef34b4",
   "metadata": {},
   "outputs": [],
   "source": [
    "settings = { \n",
    "  \"Electrodes\":\n",
    "  [\n",
    "    {\n",
    "      \"Name\": \"BostonScientificVercise\",\n",
    "      \"PathToCustomParameters\": \"\",\n",
    "      \"Rotation[Degrees]\": 0.0,\n",
    "      \"Direction\": { \"x[mm]\": 0.0, \"y[mm]\": 0.0, \"z[mm]\": 1.0 },\n",
    "      \"TipPosition\": { \"x[mm]\": 17.0, \"y[mm]\": 8.0, \"z[mm]\": 6.0 },\n",
    "\n",
    "      \"Contacts\": [\n",
    "        {\n",
    "          \"Contact_ID\": 1,\n",
    "          \"Active\": True,\n",
    "          \"Current[A]\": 0.0,\n",
    "          \"Voltage[V]\": 1.0,\n",
    "          \"Floating\": False,\n",
    "          \"SurfaceImpedance[Ohmm]\": { \"real\": 0.0, \"imag\": 0.0 }\n",
    "        },\n",
    "        {\n",
    "          \"Contact_ID\": 2,\n",
    "          \"Active\": True,\n",
    "          \"Current[A]\": 0.0,\n",
    "          \"Voltage[V]\": 0.0,\n",
    "          \"Floating\": False,\n",
    "          \"SurfaceImpedance[Ohmm]\": { \"real\": 0.0, \"imag\": 0.0 }\n",
    "        }\n",
    "      ],\n",
    "    \"EncapsulationLayer\": {\n",
    "        \"Thickness[mm]\": 0.0,\n",
    "        \"Material\": \"Blood\",\n",
    "        \"DielectricModel\": \"ColeCole4\",\n",
    "        \"MaxMeshSize\": 0.5\n",
    "     }\n",
    "    }\n",
    "  ],\n",
    "\n",
    "  \"BrainRegion\": {\n",
    "    \"Center\": { \"x[mm]\": 17.0, \"y[mm]\": 8.0, \"z[mm]\": 6.0 },\n",
    "    \"Dimension\": { \"x[mm]\": 50.0, \"y[mm]\": 50.0, \"z[mm]\": 50.0 }\n",
    "  },\n",
    "\n",
    "  \"MaterialDistribution\": {\n",
    "    \"MRIPath\": \"../input_files/icbm_avg_152_segmented.nii.gz\",\n",
    "    \"MRIMapping\": {\n",
    "      \"Unknown\": 0,\n",
    "      \"CSF\": 1,\n",
    "      \"White matter\": 2,\n",
    "      \"Gray matter\": 3,\n",
    "      \"Blood\": 4      \n",
    "    },\n",
    "    \"DiffusionTensorActive\": False,\n",
    "    \"DTIPath\": \"\"\n",
    "  },\n",
    "\n",
    "  \"DielectricModel\": {\n",
    "    \"Type\": \"ColeCole4\"\n",
    "  },\n",
    "\n",
    "  \"Mesh\": {\n",
    "    \"LoadMesh\": False,\n",
    "    \"MeshElementOrder\": 2,\n",
    "    \"MeshingHypothesis\": {\n",
    "      \"Type\": \"Default\",\n",
    "      \"MaxMeshSize\": 0.1\n",
    "    },\n",
    "    \"MeshSize\":{\n",
    "      \"Edges\": {},\n",
    "      \"Faces\":{\"E1C1\": 0.1},\n",
    "      \"Volumes\":{\"Brain\": 0.5}\n",
    "    },\n",
    "    \"SaveMesh\": False\n",
    "  },\n",
    "\n",
    "  \"MeshRefinement\": {\n",
    "    \"MeshSizeRatioContacts\": 3.0\n",
    "  },\n",
    "\n",
    "  \"FEMOrder\": 2,\n",
    "  \"EQSMode\": False, \n",
    "  \"ComputeImpedance\": True,\n",
    "\n",
    "  \"StimulationSignal\": {\n",
    "    \"CurrentControlled\": False,\n",
    "    \"Type\": \"Multisine\",\n",
    "    \"ListOfFrequencies\": [130.0]\n",
    "  },\n",
    "    \n",
    "  \"Solver\": {\n",
    "    \"Type\": \"CG\",\n",
    "    \"Preconditioner\": \"bddc\",\n",
    "    \"PrintRates\": False,\n",
    "    \"MaximumSteps\": 10000,\n",
    "    \"Precision\": 1e-12\n",
    "  },\n",
    "\n",
    "  \"OutputPath\": \"\",\n",
    "  \"SaveImpedance\": True,\n",
    "  \"ExportVTK\": True\n",
    "}\n"
   ]
  },
  {
   "cell_type": "markdown",
   "id": "df790f80",
   "metadata": {},
   "source": [
    "# MRI and Geometry"
   ]
  },
  {
   "cell_type": "code",
   "execution_count": null,
   "id": "b14bb7d0",
   "metadata": {},
   "outputs": [],
   "source": [
    "mri_image = ossdbs.MagneticResonanceImage(settings['MaterialDistribution']['MRIPath'])"
   ]
  },
  {
   "cell_type": "code",
   "execution_count": null,
   "id": "05df5ee0",
   "metadata": {},
   "outputs": [],
   "source": [
    "electrodes = ossdbs.generate_electrodes(settings)\n",
    "electrode = electrodes[0]\n",
    "Draw(electrode.geometry)"
   ]
  },
  {
   "cell_type": "code",
   "execution_count": null,
   "id": "82f847b8",
   "metadata": {},
   "outputs": [],
   "source": [
    "bounding_box = ossdbs.create_bounding_box(settings[\"BrainRegion\"])\n",
    "brain = ossdbs.BrainGeometry(\"Ellipsoid\", bounding_box)"
   ]
  },
  {
   "cell_type": "code",
   "execution_count": null,
   "id": "ef0fcc11",
   "metadata": {},
   "outputs": [],
   "source": [
    "model_geometry = ossdbs.ModelGeometry(brain, electrodes)\n",
    "Draw(model_geometry.geometry.shape)"
   ]
  },
  {
   "cell_type": "markdown",
   "id": "79b65771",
   "metadata": {},
   "source": [
    "# Prepare VCM"
   ]
  },
  {
   "cell_type": "code",
   "execution_count": null,
   "id": "575a2641",
   "metadata": {},
   "outputs": [],
   "source": [
    "ossdbs.set_contact_and_encapsulation_layer_properties(settings, model_geometry)"
   ]
  },
  {
   "cell_type": "code",
   "execution_count": null,
   "id": "3c60cde8",
   "metadata": {},
   "outputs": [],
   "source": [
    "dielectric_model = ossdbs.prepare_dielectric_properties(settings)"
   ]
  },
  {
   "cell_type": "code",
   "execution_count": null,
   "id": "c40719fb",
   "metadata": {},
   "outputs": [],
   "source": [
    "materials = settings[\"MaterialDistribution\"][\"MRIMapping\"]\n",
    "conductivity = ossdbs.ConductivityCF(mri_image,\n",
    "                                  bounding_box,\n",
    "                                  dielectric_model,\n",
    "                                  materials,\n",
    "                                  model_geometry.encapsulation_layers,\n",
    "                                  complex_data=settings[\"EQSMode\"]\n",
    "                                  )"
   ]
  },
  {
   "cell_type": "code",
   "execution_count": null,
   "id": "a727f2f7",
   "metadata": {},
   "outputs": [],
   "source": [
    "solver = ossdbs.prepare_solver(settings)"
   ]
  },
  {
   "cell_type": "code",
   "execution_count": null,
   "id": "2c6b2d3d",
   "metadata": {},
   "outputs": [],
   "source": [
    "with TaskManager():\n",
    "    volume_conductor = ossdbs.prepare_volume_conductor_model(settings, model_geometry, conductivity, solver)"
   ]
  },
  {
   "cell_type": "markdown",
   "id": "f1aab47e",
   "metadata": {},
   "source": [
    "# Run VCM"
   ]
  },
  {
   "cell_type": "code",
   "execution_count": null,
   "id": "7355a7ab",
   "metadata": {},
   "outputs": [],
   "source": [
    "with TaskManager():\n",
    "    ossdbs.run_volume_conductor_model(settings, volume_conductor)"
   ]
  },
  {
   "cell_type": "code",
   "execution_count": null,
   "id": "d14ccdaa",
   "metadata": {},
   "outputs": [],
   "source": [
    "DrawNG(volume_conductor.potential)"
   ]
  },
  {
   "cell_type": "code",
   "execution_count": null,
   "id": "13243256",
   "metadata": {},
   "outputs": [],
   "source": [
    "import pickle\n",
    "file_out = \"potential.data\"\n",
    "pickler = pickle.Pickler(open(file_out,\"wb\"))\n",
    "data = [volume_conductor.potential, volume_conductor.mesh]\n",
    "pickler.dump(data)"
   ]
  }
 ],
 "metadata": {
  "kernelspec": {
   "display_name": "Python 3 (ipykernel)",
   "language": "python",
   "name": "python3"
  },
  "language_info": {
   "codemirror_mode": {
    "name": "ipython",
    "version": 3
   },
   "file_extension": ".py",
   "mimetype": "text/x-python",
   "name": "python",
   "nbconvert_exporter": "python",
   "pygments_lexer": "ipython3",
   "version": "3.10.6"
  }
 },
 "nbformat": 4,
 "nbformat_minor": 5
}
