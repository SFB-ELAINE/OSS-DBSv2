{
 "cells": [
  {
   "cell_type": "markdown",
   "id": "0",
   "metadata": {},
   "source": [
    "# OSS-DBS v2.0 Tutorial\n",
    "At first import all needed modules. Besides OSS-DBS we  import the Draw function from Netgen/NGSolve webgui to visualze the results within the jupyter-notebook. The Taskmanager is used to paralize the computational expensive steps. If you want to use the default values for not-specified variables, you can use the `Settings` function from the `ossdbs.utils` module. "
   ]
  },
  {
   "cell_type": "code",
   "execution_count": null,
   "id": "1",
   "metadata": {},
   "outputs": [],
   "source": [
    "import logging\n",
    "\n",
    "from netgen.webgui import Draw\n",
    "from ngsolve import TaskManager\n",
    "from ngsolve.webgui import Draw as DrawNG\n",
    "\n",
    "import ossdbs\n",
    "from ossdbs.utils.settings import Settings\n",
    "\n",
    "ossdbs.set_logger(logging.INFO)"
   ]
  },
  {
   "cell_type": "markdown",
   "id": "2",
   "metadata": {},
   "source": [
    "## Input Settings\n",
    "Define settings in dictionary format. Also an JSON file can be loaded."
   ]
  },
  {
   "cell_type": "code",
   "execution_count": null,
   "id": "3",
   "metadata": {},
   "outputs": [],
   "source": [
    "settings = {\n",
    "    \"BrainRegion\": {\n",
    "        \"Center\": {\"x[mm]\": 17.0, \"y[mm]\": 8.0, \"z[mm]\": 6.0},\n",
    "        \"Dimension\": {\"x[mm]\": 50.0, \"y[mm]\": 50.0, \"z[mm]\": 50.0},\n",
    "        \"Shape\": \"Ellipsoid\",\n",
    "    },\n",
    "    \"Electrodes\": [\n",
    "        {\n",
    "            \"Name\": \"BostonScientificVerciseCustom\",\n",
    "            \"CustomParameters\": {\n",
    "                \"tip_length\": 1.3,\n",
    "                \"contact_length\": 1.5,\n",
    "                \"contact_spacing\": 0.5,\n",
    "                \"lead_diameter\": 1.3,\n",
    "                \"total_length\": 50.0,\n",
    "            },\n",
    "            \"Rotation[Degrees]\": 0.0,\n",
    "            \"Direction\": {\"x[mm]\": 0.0, \"y[mm]\": 0.0, \"z[mm]\": 1.0},\n",
    "            \"TipPosition\": {\"x[mm]\": 17.0, \"y[mm]\": 8.0, \"z[mm]\": 6.0},\n",
    "            \"Contacts\": [\n",
    "                {\n",
    "                    \"Contact_ID\": 1,\n",
    "                    \"Active\": True,\n",
    "                    \"Current[A]\": 0.0,\n",
    "                    \"Voltage[V]\": 1.0,\n",
    "                    \"Floating\": False,\n",
    "                    \"SurfaceImpedance[Ohmm]\": {\"real\": 0.0, \"imag\": 0.0},\n",
    "                    \"MaxMeshSizeEdge\": 0.01,\n",
    "                },\n",
    "                {\n",
    "                    \"Contact_ID\": 2,\n",
    "                    \"Active\": True,\n",
    "                    \"Current[A]\": 0.0,\n",
    "                    \"Voltage[V]\": 0.0,\n",
    "                    \"Floating\": False,\n",
    "                    \"SurfaceImpedance[Ohmm]\": {\"real\": 0.0, \"imag\": 0.0},\n",
    "                    \"MaxMeshSizeEdge\": 0.01,\n",
    "                },\n",
    "            ],\n",
    "            \"EncapsulationLayer\": {\n",
    "                \"Thickness[mm]\": 0.0,\n",
    "                \"Material\": \"Blood\",\n",
    "                \"DielectricModel\": \"ColeCole4\",\n",
    "                \"MaxMeshSize\": 0.5,\n",
    "            },\n",
    "        }\n",
    "    ],\n",
    "    \"MaterialDistribution\": {\n",
    "        \"MRIPath\": \"../input_files/Butenko_segmask.nii.gz\",\n",
    "        \"MRIMapping\": {\n",
    "            \"Unknown\": 0,\n",
    "            \"CSF\": 1,\n",
    "            \"White matter\": 2,\n",
    "            \"Gray matter\": 3,\n",
    "            \"Blood\": 4,\n",
    "        },\n",
    "        \"DiffusionTensorActive\": False,\n",
    "        \"DTIPath\": \"\",\n",
    "    },\n",
    "    \"DielectricModel\": {\"Type\": \"ColeCole4\", \"CustomParameters\": None},\n",
    "    \"Mesh\": {\n",
    "        \"LoadMesh\": False,\n",
    "        \"MeshElementOrder\": 2,\n",
    "        \"MeshingHypothesis\": {\"Type\": \"Default\", \"MaxMeshSize\": 10.0},\n",
    "        \"MeshSize\": {\"Edges\": {}, \"Faces\": {\"E1C1\": 0.1}, \"Volumes\": {\"Brain\": 0.5}},\n",
    "        \"SaveMesh\": False,\n",
    "    },\n",
    "    \"FEMOrder\": 2,\n",
    "    \"EQSMode\": False,\n",
    "    \"StimulationSignal\": {\n",
    "        \"CurrentControlled\": False,\n",
    "        \"Type\": \"Multisine\",\n",
    "        \"ListOfFrequencies\": [130.0],\n",
    "    },\n",
    "    \"Solver\": {\n",
    "        \"Type\": \"CG\",\n",
    "        \"Preconditioner\": \"bddc\",\n",
    "        \"PreconditionerKwargs\": {},\n",
    "        \"PrintRates\": False,\n",
    "        \"MaximumSteps\": 10000,\n",
    "        \"Precision\": 1e-12,\n",
    "    },\n",
    "    \"PointModel\": {\n",
    "        \"Pathway\": {\"Active\": False, \"FileName\": \"\"},\n",
    "        \"Lattice\": {\n",
    "            \"Active\": False,\n",
    "            \"Center\": {\"x[mm]\": 22.95, \"y[mm]\": 11.47, \"z[mm]\": 8.1},\n",
    "            \"Shape\": {\"x\": 10, \"y\": 10, \"z\": 10},\n",
    "            \"Direction\": {\"x[mm]\": 0, \"y[mm]\": 0, \"z[mm]\": 1},\n",
    "            \"PointDistance[mm]\": 0.1,\n",
    "        },\n",
    "        \"VoxelLattice\": {\n",
    "            \"Active\": False,\n",
    "            \"Shape\": {\"x\": 10, \"y\": 10, \"z\": 10},\n",
    "        },\n",
    "    },\n",
    "    \"OutputPath\": \"Results/\",\n",
    "    \"ComputeImpedance\": True,\n",
    "    \"TemplateSpace\": False,\n",
    "    \"ActivationThresholdVTA\": 0.2,\n",
    "    \"ExportVTK\": True,\n",
    "    \"ExportElectrode\": True,\n",
    "    \"OutOfCore\": False,\n",
    "    \"PathwayFile\": None,\n",
    "    \"AdaptiveMeshRefinement\": False,\n",
    "}"
   ]
  },
  {
   "cell_type": "markdown",
   "id": "4",
   "metadata": {},
   "source": [
    "## Update Settings\n",
    "The following command will update all variables, which haven't been specified by the user with the default values."
   ]
  },
  {
   "cell_type": "code",
   "execution_count": null,
   "id": "5",
   "metadata": {},
   "outputs": [],
   "source": [
    "settings = Settings(settings).complete_settings()"
   ]
  },
  {
   "cell_type": "markdown",
   "id": "6",
   "metadata": {},
   "source": [
    "## Load MRI and DTI Data\n",
    "MRI and DTI were load from the path given in the settings dictionary. You always need to provide a MRI image, but DTI is optional."
   ]
  },
  {
   "cell_type": "code",
   "execution_count": null,
   "id": "7",
   "metadata": {},
   "outputs": [],
   "source": [
    "mri_image, dti_image = ossdbs.load_images(settings)"
   ]
  },
  {
   "cell_type": "markdown",
   "id": "8",
   "metadata": {},
   "source": [
    "## Create Stimulation Electrodes\n",
    "The specified electrodes were create and drawed. Geometrical parameters of the electrode can be changed directly in the input settings by appending \"Custom\" to the end of the electrodes' name and providing a dictionary with custum parameters."
   ]
  },
  {
   "cell_type": "code",
   "execution_count": null,
   "id": "9",
   "metadata": {},
   "outputs": [],
   "source": [
    "electrodes = ossdbs.generate_electrodes(settings)\n",
    "Draw(electrodes[0].geometry)"
   ]
  },
  {
   "cell_type": "markdown",
   "id": "10",
   "metadata": {},
   "source": [
    "## Construct Geometry of the Brain\n",
    "Since the region of interesst is relativly small compared to the brain size, the shape can be approximated by a ellipsoide, sphere, or a box. Also providing a custom shape in `.brep` format is possible."
   ]
  },
  {
   "cell_type": "code",
   "execution_count": null,
   "id": "11",
   "metadata": {},
   "outputs": [],
   "source": [
    "region_parameters = settings[\"BrainRegion\"]\n",
    "brain_region = ossdbs.create_bounding_box(settings[\"BrainRegion\"])\n",
    "shape = settings[\"BrainRegion\"][\"Shape\"]\n",
    "\n",
    "brain = ossdbs.BrainGeometry(shape, brain_region)"
   ]
  },
  {
   "cell_type": "code",
   "execution_count": null,
   "id": "12",
   "metadata": {},
   "outputs": [],
   "source": [
    "geometry = ossdbs.ModelGeometry(brain, electrodes)\n",
    "Draw(geometry.geometry.shape)"
   ]
  },
  {
   "cell_type": "markdown",
   "id": "13",
   "metadata": {},
   "source": [
    "## Prepare the Volume Conductor Model\n",
    "Before running the simulation, the material properties and corresponding conductivity values are determined based on the given inputs. Also the settings for the solver can be updated."
   ]
  },
  {
   "cell_type": "code",
   "execution_count": null,
   "id": "14",
   "metadata": {},
   "outputs": [],
   "source": [
    "ossdbs.set_contact_and_encapsulation_layer_properties(settings, geometry)\n",
    "\n",
    "dielectric_model = ossdbs.prepare_dielectric_properties(settings)\n",
    "\n",
    "materials = settings[\"MaterialDistribution\"][\"MRIMapping\"]\n",
    "conductivity = ossdbs.ConductivityCF(\n",
    "    mri_image,\n",
    "    brain_region,\n",
    "    dielectric_model,\n",
    "    materials,\n",
    "    geometry.encapsulation_layers,\n",
    "    complex_data=settings[\"EQSMode\"],\n",
    ")\n",
    "\n",
    "solver = ossdbs.prepare_solver(settings)\n",
    "\n",
    "frequency_domain_signal = ossdbs.prepare_stimulation_signal(settings)"
   ]
  },
  {
   "cell_type": "markdown",
   "id": "15",
   "metadata": {},
   "source": [
    "## Run Volume Conductor Model\n",
    "To run the Volume Conductor Model, the built-in TaskManager is use to parallize the computational heavy parts. During this step, the results will be stored in the specified folder."
   ]
  },
  {
   "cell_type": "code",
   "execution_count": null,
   "id": "16",
   "metadata": {},
   "outputs": [],
   "source": [
    "with TaskManager():\n",
    "    volume_conductor = ossdbs.prepare_volume_conductor_model(\n",
    "        settings, geometry, conductivity, solver\n",
    "    )\n",
    "    ossdbs.run_volume_conductor_model(\n",
    "        settings, volume_conductor, frequency_domain_signal\n",
    "    )"
   ]
  },
  {
   "cell_type": "code",
   "execution_count": null,
   "id": "17",
   "metadata": {},
   "outputs": [],
   "source": [
    "DrawNG(volume_conductor.potential)"
   ]
  }
 ],
 "metadata": {
  "kernelspec": {
   "display_name": "Python 3 (ipykernel)",
   "language": "python",
   "name": "python3"
  },
  "language_info": {
   "codemirror_mode": {
    "name": "ipython",
    "version": 3
   },
   "file_extension": ".py",
   "mimetype": "text/x-python",
   "name": "python",
   "nbconvert_exporter": "python",
   "pygments_lexer": "ipython3",
   "version": "3.10.12"
  }
 },
 "nbformat": 4,
 "nbformat_minor": 5
}
