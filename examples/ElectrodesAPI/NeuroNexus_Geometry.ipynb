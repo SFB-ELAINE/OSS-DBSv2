{
 "cells": [
  {
   "cell_type": "code",
   "execution_count": 1,
   "id": "0686075a-e4a2-478e-b9e7-c61e1a561440",
   "metadata": {},
   "outputs": [],
   "source": [
    "import netgen.occ as occ\n",
    "from ngsolve import Mesh, TaskManager\n",
    "from ngsolve.webgui import Draw\n",
    "\n",
    "import ossdbs"
   ]
  },
  {
   "cell_type": "code",
   "execution_count": 2,
   "id": "182d6e0b-f512-413b-9900-325face6e8a5",
   "metadata": {},
   "outputs": [],
   "source": [
    "parameters = ossdbs.electrodes.default_electrode_parameters[\n",
    "    \"NeuroNexusA1x16_5mm_50_177\"\n",
    "]\n",
    "# make it much smaller for the sake of visualization\n",
    "parameters.total_length = 2"
   ]
  },
  {
   "cell_type": "code",
   "execution_count": 3,
   "id": "8d644999-6e64-44bb-ab95-84f19e8df050",
   "metadata": {},
   "outputs": [],
   "source": [
    "settings = {\n",
    "    \"Electrodes\": [\n",
    "        {\n",
    "            \"Name\": \"NeuroNexusA1x16_5mm_50_177Custom\",\n",
    "            \"Rotation[Degrees]\": 0,\n",
    "            \"CustomParameters\": parameters.__dict__,\n",
    "            \"Direction\": {\"x[mm]\": 0, \"y[mm]\": 0, \"z[mm]\": 1},\n",
    "            \"TipPosition\": {\"x[mm]\": 0, \"y[mm]\": 0, \"z[mm]\": 0},\n",
    "        },\n",
    "    ],\n",
    "    \"ExportElectrode\": False,\n",
    "    \"Mesh\": {\"HPRefinement\": {\"Active\": False}},\n",
    "}"
   ]
  },
  {
   "cell_type": "code",
   "execution_count": 4,
   "id": "cc4a898b-81ff-40ad-bbb8-8d6491100cab",
   "metadata": {},
   "outputs": [
    {
     "name": "stdout",
     "output_type": "stream",
     "text": [
      "['Contact_1', 'Contact_2', 'Contact_3', 'Contact_4', 'Contact_5', 'Contact_6', 'Contact_7', 'Contact_8', 'Body', 'Body', 'Body', 'Body', 'Body', 'Body', 'Body', 'Body', 'Contact_1', 'Contact_2', 'Contact_3', 'Contact_4', 'Contact_5', 'Contact_6', 'Contact_7', 'Contact_8', 'Body']\n"
     ]
    },
    {
     "data": {
      "application/vnd.jupyter.widget-view+json": {
       "model_id": "b43fc1b54b544fb287918a3ac7557bee",
       "version_major": 2,
       "version_minor": 0
      },
      "text/plain": [
       "WebGuiWidget(layout=Layout(height='50vh', width='100%'), value={'gui_settings': {}, 'ngsolve_version': '6.2.25…"
      ]
     },
     "metadata": {},
     "output_type": "display_data"
    },
    {
     "name": "stdout",
     "output_type": "stream",
     "text": [
      "('Body', 'Body', 'Body', 'Body', 'Body', 'Body', 'Body', 'Body', 'Contact_1', 'Contact_2', 'Contact_3', 'Contact_4', 'Contact_5', 'Contact_6', 'Contact_7', 'Contact_8', 'Body')\n",
      "('default',)\n"
     ]
    }
   ],
   "source": [
    "electrodes = ossdbs.generate_electrodes(settings)\n",
    "neuronexus = electrodes[0]\n",
    "occgeo = occ.OCCGeometry(neuronexus.geometry)\n",
    "with TaskManager():\n",
    "    mesh = Mesh(occgeo.GenerateMesh()).Curve(2)\n",
    "Draw(mesh)\n",
    "print(mesh.GetBoundaries())\n",
    "print(mesh.GetMaterials())"
   ]
  },
  {
   "cell_type": "code",
   "execution_count": 5,
   "id": "2dbf67c4-84e4-4184-9b4a-6a6c451dd073",
   "metadata": {},
   "outputs": [
    {
     "name": "stdout",
     "output_type": "stream",
     "text": [
      "{'Body': 0, 'Contact_1': 1, 'Contact_2': 2, 'Contact_3': 3, 'Contact_4': 4, 'Contact_5': 5, 'Contact_6': 6, 'Contact_7': 7, 'Contact_8': 8}\n"
     ]
    },
    {
     "data": {
      "application/vnd.jupyter.widget-view+json": {
       "model_id": "ac823cb3a0a44aa684a894b82a9a1ed6",
       "version_major": 2,
       "version_minor": 0
      },
      "text/plain": [
       "WebGuiWidget(layout=Layout(height='50vh', width='100%'), value={'gui_settings': {}, 'ngsolve_version': '6.2.25…"
      ]
     },
     "metadata": {},
     "output_type": "display_data"
    },
    {
     "data": {
      "text/plain": [
       "BaseWebGuiScene"
      ]
     },
     "execution_count": 5,
     "metadata": {},
     "output_type": "execute_result"
    }
   ],
   "source": [
    "bnd_dict = {}\n",
    "for idx, contact in enumerate(neuronexus.boundaries):\n",
    "    bnd_dict[contact] = idx\n",
    "print(bnd_dict)\n",
    "Draw(mesh.BoundaryCF(bnd_dict, default=-1), mesh, draw_vol=False)"
   ]
  },
  {
   "cell_type": "code",
   "execution_count": null,
   "id": "220a9a1d-7094-4c0a-afca-888b4451d10f",
   "metadata": {},
   "outputs": [],
   "source": []
  }
 ],
 "metadata": {
  "kernelspec": {
   "display_name": "Python 3 (ipykernel)",
   "language": "python",
   "name": "python3"
  },
  "language_info": {
   "codemirror_mode": {
    "name": "ipython",
    "version": 3
   },
   "file_extension": ".py",
   "mimetype": "text/x-python",
   "name": "python",
   "nbconvert_exporter": "python",
   "pygments_lexer": "ipython3",
   "version": "3.10.16"
  }
 },
 "nbformat": 4,
 "nbformat_minor": 5
}
