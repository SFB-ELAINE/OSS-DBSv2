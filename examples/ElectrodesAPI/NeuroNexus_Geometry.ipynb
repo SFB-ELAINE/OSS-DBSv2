{
 "cells": [
  {
   "cell_type": "code",
   "execution_count": null,
   "id": "0",
   "metadata": {},
   "outputs": [],
   "source": [
    "import netgen.occ as occ\n",
    "from ngsolve import Mesh, TaskManager\n",
    "from ngsolve.webgui import Draw\n",
    "\n",
    "import ossdbs"
   ]
  },
  {
   "cell_type": "code",
   "execution_count": null,
   "id": "1",
   "metadata": {},
   "outputs": [],
   "source": [
    "parameters = ossdbs.electrodes.default_electrode_parameters[\n",
    "    \"NeuroNexusA1x16_5mm_50_177\"\n",
    "]\n",
    "# make it much smaller for the sake of visualization\n",
    "parameters.total_length = 2"
   ]
  },
  {
   "cell_type": "code",
   "execution_count": null,
   "id": "2",
   "metadata": {},
   "outputs": [],
   "source": [
    "settings = {\n",
    "    \"Electrodes\": [\n",
    "        {\n",
    "            \"Name\": \"NeuroNexusA1x16_5mm_50_177Custom\",\n",
    "            \"Rotation[Degrees]\": 0,\n",
    "            \"CustomParameters\": parameters.__dict__,\n",
    "            \"Direction\": {\"x[mm]\": 0, \"y[mm]\": 0, \"z[mm]\": 1},\n",
    "            \"TipPosition\": {\"x[mm]\": 0, \"y[mm]\": 0, \"z[mm]\": 0},\n",
    "        },\n",
    "    ],\n",
    "    \"ExportElectrode\": False,\n",
    "    \"Mesh\": {\"HPRefinement\": {\"Active\": False}},\n",
    "}"
   ]
  },
  {
   "cell_type": "code",
   "execution_count": null,
   "id": "3",
   "metadata": {},
   "outputs": [],
   "source": [
    "electrodes = ossdbs.generate_electrodes(settings)\n",
    "neuronexus = electrodes[0]\n",
    "occgeo = occ.OCCGeometry(neuronexus.geometry)\n",
    "with TaskManager():\n",
    "    mesh = Mesh(occgeo.GenerateMesh()).Curve(2)\n",
    "Draw(mesh)\n",
    "print(mesh.GetBoundaries())\n",
    "print(mesh.GetMaterials())"
   ]
  },
  {
   "cell_type": "code",
   "execution_count": null,
   "id": "4",
   "metadata": {},
   "outputs": [],
   "source": [
    "bnd_dict = {}\n",
    "for idx, contact in enumerate(neuronexus.boundaries):\n",
    "    bnd_dict[contact] = idx\n",
    "print(bnd_dict)\n",
    "Draw(mesh.BoundaryCF(bnd_dict, default=-1), mesh, draw_vol=False)"
   ]
  },
  {
   "cell_type": "code",
   "execution_count": null,
   "id": "5",
   "metadata": {},
   "outputs": [],
   "source": []
  }
 ],
 "metadata": {
  "kernelspec": {
   "display_name": "Python 3 (ipykernel)",
   "language": "python",
   "name": "python3"
  },
  "language_info": {
   "codemirror_mode": {
    "name": "ipython",
    "version": 3
   },
   "file_extension": ".py",
   "mimetype": "text/x-python",
   "name": "python",
   "nbconvert_exporter": "python",
   "pygments_lexer": "ipython3",
   "version": "3.10.16"
  }
 },
 "nbformat": 4,
 "nbformat_minor": 5
}
