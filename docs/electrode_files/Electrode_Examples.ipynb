{
 "cells": [
  {
   "cell_type": "markdown",
   "id": "0",
   "metadata": {
    "slideshow": {
     "slide_type": "slide"
    }
   },
   "source": [
    "# Electrode Examples\n",
    "\n",
    "\n"
   ]
  },
  {
   "cell_type": "markdown",
   "id": "1",
   "metadata": {},
   "source": [
    "### Medtronic SenSight\n",
    "This is an example of a single electrode generated using the default parameters"
   ]
  },
  {
   "cell_type": "markdown",
   "id": "2",
   "metadata": {},
   "source": [
    "\n",
    "After importing modules, define a dictionary for the electrode settings.\n"
   ]
  },
  {
   "cell_type": "code",
   "execution_count": null,
   "id": "3",
   "metadata": {},
   "outputs": [],
   "source": [
    "import netgen.occ as occ\n",
    "from ngsolve import Draw, Mesh, TaskManager\n",
    "\n",
    "import ossdbs\n",
    "\n",
    "settings = {\n",
    "    \"Electrodes\": [\n",
    "        {\n",
    "            \"Name\": \"MedtronicSenSightB33015\",\n",
    "            \"Rotation[Degrees]\": 0,\n",
    "            \"Direction\": {\"x[mm]\": 0, \"y[mm]\": 0, \"z[mm]\": 1},\n",
    "            \"TipPosition\": {\"x[mm]\": 0, \"y[mm]\": 0, \"z[mm]\": 0},\n",
    "            \"EncapsulationLayer\": {\"Thickness[mm]\": 0.1},\n",
    "        }\n",
    "    ]\n",
    "}"
   ]
  },
  {
   "cell_type": "markdown",
   "id": "4",
   "metadata": {},
   "source": [
    "Create the electrode geometry and encapsulation layer, then glue the geometries together"
   ]
  },
  {
   "cell_type": "code",
   "execution_count": null,
   "id": "5",
   "metadata": {},
   "outputs": [],
   "source": [
    "electrodes = ossdbs.generate_electrodes(settings)\n",
    "SenSight_settings = settings[\"Electrodes\"][0]\n",
    "SenSight = electrodes[0]\n",
    "encapsulation_layer = SenSight.encapsulation_geometry(\n",
    "    SenSight_settings[\"EncapsulationLayer\"][\"Thickness[mm]\"]\n",
    ")\n",
    "occgeo = occ.OCCGeometry(occ.Glue([SenSight.geometry, encapsulation_layer]))"
   ]
  },
  {
   "cell_type": "markdown",
   "id": "6",
   "metadata": {},
   "source": [
    "Generate a mesh and visualize the geometry. You can use the clipping feature in the control panel to visualize the electrode, encapsulation layer, and contacts in more detail"
   ]
  },
  {
   "cell_type": "code",
   "execution_count": null,
   "id": "7",
   "metadata": {},
   "outputs": [],
   "source": [
    "with TaskManager():\n",
    "    mesh = Mesh(occgeo.GenerateMesh())\n",
    "Draw(mesh)"
   ]
  },
  {
   "cell_type": "markdown",
   "id": "8",
   "metadata": {},
   "source": [
    "### Micro Probe Rodent Custom Electrode\n",
    "This is an example of a single micro probe rodent electrode with an encapsulation layer that is generated using custom parameters\n"
   ]
  },
  {
   "cell_type": "markdown",
   "id": "9",
   "metadata": {},
   "source": [
    "After importing modules, define a dictionary for the parameters and the electrode settings. \n",
    "\n",
    "Note that the parameter names in the dictionary match exactly with the default parameter names. Also note that parameters is included in generating settings. "
   ]
  },
  {
   "cell_type": "code",
   "execution_count": null,
   "id": "10",
   "metadata": {},
   "outputs": [],
   "source": [
    "parameters = {\n",
    "    \"exposed_wire\": 0.12,\n",
    "    \"contact_radius\": 0.1125,\n",
    "    \"lead_radius\": 0.1175,\n",
    "    \"total_length\": 13.3,\n",
    "    \"wire_radius\": 0.09,\n",
    "}\n",
    "\n",
    "\n",
    "settings = {\n",
    "    \"Electrodes\": [\n",
    "        {\n",
    "            \"Name\": \"MicroProbesRodentElectrodeCustom\",\n",
    "            \"CustomParameters\": parameters,\n",
    "            \"Rotation[Degrees]\": 0,\n",
    "            \"Direction\": {\"x[mm]\": 0, \"y[mm]\": 0, \"z[mm]\": 1},\n",
    "            \"TipPosition\": {\"x[mm]\": 0, \"y[mm]\": 0, \"z[mm]\": 0},\n",
    "            \"EncapsulationLayer\": {\"Thickness[mm]\": 0.1},\n",
    "        }\n",
    "    ]\n",
    "}"
   ]
  },
  {
   "cell_type": "markdown",
   "id": "11",
   "metadata": {},
   "source": [
    "Create the electrode geometry and encapsulation layer. Generate a mesh and visualize the geometry."
   ]
  },
  {
   "cell_type": "code",
   "execution_count": null,
   "id": "12",
   "metadata": {},
   "outputs": [],
   "source": [
    "electrodes = ossdbs.generate_electrodes(settings)\n",
    "electrode_settings = settings[\"Electrodes\"][0]\n",
    "electrode = electrodes[0]\n",
    "encap = electrode.encapsulation_geometry(\n",
    "    electrode_settings[\"EncapsulationLayer\"][\"Thickness[mm]\"]\n",
    ")\n",
    "occgeo = occ.OCCGeometry(occ.Glue([electrode.geometry, encap]))\n",
    "with TaskManager():\n",
    "    mesh = Mesh(occgeo.GenerateMesh())\n",
    "Draw(mesh)"
   ]
  },
  {
   "cell_type": "markdown",
   "id": "13",
   "metadata": {},
   "source": [
    "### Two Boston Scientific Vercise Electrodes\n",
    "Two vercise electrodes with an encapsulation layer is generated. The encapsulation layers have different thicknesses.\n"
   ]
  },
  {
   "cell_type": "code",
   "execution_count": null,
   "id": "14",
   "metadata": {},
   "outputs": [],
   "source": [
    "settings = {\n",
    "    \"Electrodes\": [\n",
    "        {\n",
    "            \"Name\": \"BostonScientificVercise\",\n",
    "            \"Rotation[Degrees]\": 0,\n",
    "            \"Direction\": {\"x[mm]\": 0, \"y[mm]\": 0, \"z[mm]\": 1},\n",
    "            \"TipPosition\": {\"x[mm]\": 0, \"y[mm]\": 0, \"z[mm]\": 0},\n",
    "            \"EncapsulationLayer\": {\"Thickness[mm]\": 0.1},\n",
    "        },\n",
    "        {\n",
    "            \"Name\": \"BostonScientificVercise\",\n",
    "            \"Rotation[Degrees]\": 0,\n",
    "            \"Direction\": {\"x[mm]\": 0, \"y[mm]\": 0, \"z[mm]\": 1},\n",
    "            \"TipPosition\": {\"x[mm]\": 30, \"y[mm]\": 0, \"z[mm]\": 0},\n",
    "            \"EncapsulationLayer\": {\"Thickness[mm]\": 0.5},\n",
    "        },\n",
    "    ]\n",
    "}\n",
    "\n",
    "electrodes = ossdbs.generate_electrodes(settings)\n",
    "geo = None\n",
    "for idx, vercise_settings in enumerate(settings[\"Electrodes\"]):\n",
    "    vercise = electrodes[idx]\n",
    "    encap = vercise.encapsulation_geometry(\n",
    "        vercise_settings[\"EncapsulationLayer\"][\"Thickness[mm]\"]\n",
    "    )\n",
    "    if geo is None:\n",
    "        geo = occ.Glue([vercise.geometry, encap])\n",
    "    else:\n",
    "        geo = occ.Glue([geo, vercise.geometry, encap])\n",
    "occgeo = occ.OCCGeometry(geo)\n",
    "\n",
    "with TaskManager():\n",
    "    mesh = Mesh(occgeo.GenerateMesh())\n",
    "Draw(mesh)"
   ]
  }
 ],
 "metadata": {
  "celltoolbar": "Slideshow",
  "kernelspec": {
   "display_name": "Python 3",
   "language": "python",
   "name": "python3"
  },
  "language_info": {
   "codemirror_mode": {
    "name": "ipython",
    "version": 3
   },
   "file_extension": ".py",
   "mimetype": "text/x-python",
   "name": "python",
   "nbconvert_exporter": "python",
   "pygments_lexer": "ipython3",
   "version": "3.9.10"
  }
 },
 "nbformat": 4,
 "nbformat_minor": 5
}
