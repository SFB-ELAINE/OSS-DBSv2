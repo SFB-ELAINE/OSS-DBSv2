{
 "cells": [
  {
   "cell_type": "markdown",
   "id": "f3b656bf",
   "metadata": {
    "slideshow": {
     "slide_type": "slide"
    }
   },
   "source": [
    "# Electrode Examples\n",
    "\n",
    "\n"
   ]
  },
  {
   "cell_type": "markdown",
   "id": "4e1676d7",
   "metadata": {},
   "source": [
    "### Medtronic SenSight\n",
    "This is an example of a single electrode generated using the default parameters"
   ]
  },
  {
   "cell_type": "markdown",
   "id": "66a9682e",
   "metadata": {},
   "source": [
    "\n",
    "After importing modules, define a dictionary for the electrode settings.\n"
   ]
  },
  {
   "cell_type": "code",
   "execution_count": null,
   "id": "ae289851",
   "metadata": {},
   "outputs": [],
   "source": [
    "import ossdbs\n",
    "from ngsolve import Draw, Mesh, TaskManager\n",
    "from ngsolve.webgui import Draw\n",
    "import netgen.occ as occ\n",
    "\n",
    "settings = {\"Electrodes\":\n",
    "            [{\"Name\": \"MedtronicSenSightB33015\",\n",
    "              \"Rotation[Degrees]\": 0,\n",
    "              \"Direction\": {\"x[mm]\": 0, \"y[mm]\": 0, \"z[mm]\": 1},\n",
    "              \"TipPosition\": {\"x[mm]\": 0, \"y[mm]\": 0, \"z[mm]\": 0},\n",
    "              \"EncapsulationLayer\": {\"Thickness[mm]\": 0.1}\n",
    "              }]\n",
    "            }"
   ]
  },
  {
   "cell_type": "markdown",
   "id": "04aa6f7e",
   "metadata": {},
   "source": [
    "Create the electrode geometry and encapsulation layer, then glue the geometries together"
   ]
  },
  {
   "cell_type": "code",
   "execution_count": null,
   "id": "f6b4cd57",
   "metadata": {},
   "outputs": [],
   "source": [
    "electrodes = ossdbs.generate_electrodes(settings)\n",
    "SenSight_settings = settings[\"Electrodes\"][0]\n",
    "SenSight = electrodes[0]\n",
    "encapsulation_layer = SenSight.encapsulation_geometry(SenSight_settings[\"EncapsulationLayer\"][\"Thickness[mm]\"])\n",
    "occgeo = occ.OCCGeometry(occ.Glue([SenSight.geometry, encapsulation_layer]))"
   ]
  },
  {
   "cell_type": "markdown",
   "id": "8379db1c",
   "metadata": {},
   "source": [
    "Generate a mesh and visualize the geometry. You can use the clipping feature in the control panel to visualize the electrode, encapsulation layer, and contacts in more detail"
   ]
  },
  {
   "cell_type": "code",
   "execution_count": null,
   "id": "29fca03c",
   "metadata": {},
   "outputs": [],
   "source": [
    "with TaskManager():\n",
    "    mesh = Mesh(occgeo.GenerateMesh())\n",
    "Draw(mesh)"
   ]
  },
  {
   "cell_type": "markdown",
   "id": "e736a230",
   "metadata": {},
   "source": [
    "### Micro Probe Rodent Custom Electrode\n",
    "This is an example of a single micro probe rodent electrode with an encapsulation layer that is generated using custom parameters\n"
   ]
  },
  {
   "cell_type": "markdown",
   "id": "821039d7",
   "metadata": {},
   "source": [
    "After importing modules, define a dictionary for the parameters and the electrode settings. \n",
    "\n",
    "Note that the parameter names in the dictionary match exactly with the default parameter names. Also note that parameters is included in generating settings. "
   ]
  },
  {
   "cell_type": "code",
   "execution_count": null,
   "id": "2c30c21a",
   "metadata": {},
   "outputs": [],
   "source": [
    "import ossdbs\n",
    "from ngsolve import Draw, Mesh, TaskManager\n",
    "from ngsolve.webgui import Draw\n",
    "import netgen.occ as occ\n",
    "\n",
    "parameters ={'exposed_wire': 0.12,\n",
    "             'contact_radius': 0.1125,\n",
    "             'lead_radius':  0.1175,\n",
    "             'total_length': 13.3, \n",
    "             'wire_radius' :0.09 }\n",
    "\n",
    "\n",
    "settings = {\"Electrodes\":\n",
    "            [{\"Name\": \"MicroProbesRodentElectrodeCustom\",\n",
    "              'CustomParameters': parameters,\n",
    "              \"Rotation[Degrees]\": 0,\n",
    "              \"Direction\": {\"x[mm]\": 0, \"y[mm]\": 0, \"z[mm]\": 1},\n",
    "              \"TipPosition\": {\"x[mm]\": 0, \"y[mm]\": 0, \"z[mm]\": 0},\n",
    "              \"EncapsulationLayer\": {\"Thickness[mm]\": 0.1}\n",
    "              }]\n",
    "            }"
   ]
  },
  {
   "cell_type": "markdown",
   "id": "ba37dcc9",
   "metadata": {},
   "source": [
    "Create the electrode geometry and encapsulation layer. Generate a mesh and visualize the geometry."
   ]
  },
  {
   "cell_type": "code",
   "execution_count": null,
   "id": "951bc423",
   "metadata": {},
   "outputs": [],
   "source": [
    "electrodes = ossdbs.generate_electrodes(settings)\n",
    "electrode_settings = settings[\"Electrodes\"][0]\n",
    "electrode = electrodes[0]\n",
    "encap = electrode.encapsulation_geometry(electrode_settings[\"EncapsulationLayer\"][\"Thickness[mm]\"])\n",
    "occgeo = occ.OCCGeometry(occ.Glue([electrode.geometry, encap]))\n",
    "with TaskManager():\n",
    "    mesh = Mesh(occgeo.GenerateMesh())\n",
    "Draw(mesh)"
   ]
  },
  {
   "cell_type": "markdown",
   "id": "4d0a7c67",
   "metadata": {},
   "source": [
    "### Two Boston Scientific Vercise Electrodes\n",
    "Two vercise electrodes with an encapsulation layer is generated. The encapsulation layers have different thicknesses.\n"
   ]
  },
  {
   "cell_type": "code",
   "execution_count": null,
   "id": "dbe458c4",
   "metadata": {},
   "outputs": [],
   "source": [
    "import ossdbs\n",
    "from ngsolve import Draw, Mesh, TaskManager\n",
    "from ngsolve.webgui import Draw\n",
    "import netgen.occ as occ\n",
    "\n",
    "settings = {\"Electrodes\":\n",
    "            [{\"Name\": \"BostonScientificVercise\",\n",
    "              \"Rotation[Degrees]\": 0,\n",
    "              \"Direction\": {\"x[mm]\": 0, \"y[mm]\": 0, \"z[mm]\": 1},\n",
    "              \"TipPosition\": {\"x[mm]\": 0, \"y[mm]\": 0, \"z[mm]\": 0},\n",
    "              \"EncapsulationLayer\": {\"Thickness[mm]\": 0.1}\n",
    "             },\n",
    "             {\"Name\": \"BostonScientificVercise\",\n",
    "              \"Rotation[Degrees]\": 0,\n",
    "              \"Direction\": {\"x[mm]\": 0, \"y[mm]\": 0, \"z[mm]\": 1},\n",
    "              \"TipPosition\": {\"x[mm]\": 30, \"y[mm]\": 0, \"z[mm]\": 0},\n",
    "              \"EncapsulationLayer\": {\"Thickness[mm]\": 0.5}\n",
    "              }]\n",
    "            }\n",
    "\n",
    "electrodes = ossdbs.generate_electrodes(settings)\n",
    "geo = None\n",
    "for idx, vercise_settings in enumerate(settings[\"Electrodes\"]):\n",
    "    vercise = electrodes[idx]\n",
    "    encap = vercise.encapsulation_geometry(vercise_settings[\"EncapsulationLayer\"][\"Thickness[mm]\"])\n",
    "    if geo is None:\n",
    "        geo = occ.Glue([vercise.geometry, encap])\n",
    "    else:\n",
    "        geo = occ.Glue([geo, vercise.geometry, encap])\n",
    "occgeo = occ.OCCGeometry(geo)\n",
    "\n",
    "with TaskManager():\n",
    "    mesh = Mesh(occgeo.GenerateMesh())\n",
    "Draw(mesh)"
   ]
  }
 ],
 "metadata": {
  "celltoolbar": "Slideshow",
  "kernelspec": {
   "display_name": "Python 3 (ipykernel)",
   "language": "python",
   "name": "python3"
  },
  "language_info": {
   "codemirror_mode": {
    "name": "ipython",
    "version": 3
   },
   "file_extension": ".py",
   "mimetype": "text/x-python",
   "name": "python",
   "nbconvert_exporter": "python",
   "pygments_lexer": "ipython3",
   "version": "3.10.6"
  }
 },
 "nbformat": 4,
 "nbformat_minor": 5
}
